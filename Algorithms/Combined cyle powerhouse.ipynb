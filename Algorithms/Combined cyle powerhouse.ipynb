{
 "cells": [
  {
   "cell_type": "code",
   "execution_count": 38,
   "metadata": {},
   "outputs": [],
   "source": [
    "import numpy as np\n",
    "\n",
    "data=np.genfromtxt('training_ccpp_x_y_train.csv',delimiter=',')\n",
    "x_train=data[:,0:4]\n",
    "y_train=data[:,4]\n",
    "\n",
    "data1=np.genfromtxt('test_ccpp_x_test.csv',delimiter=',')\n",
    "x_test=data1[:,0:4]\n",
    "\n",
    "from sklearn import ensemble\n",
    "algo=ensemble.GradientBoostingRegressor(learning_rate=0.9,n_estimators=100)\n",
    "algo.fit(x_train,y_train)\n",
    "\n",
    "y_pred=algo.predict(x_test) \n",
    "y_test_pred=pred=np.around(y_pred,decimals=5)\n",
    "np.savetxt(\"y_ccpp__pred.csv\",y_pred)\n"
   ]
  }
 ],
 "metadata": {
  "kernelspec": {
   "display_name": "Python 3",
   "language": "python",
   "name": "python3"
  },
  "language_info": {
   "codemirror_mode": {
    "name": "ipython",
    "version": 3
   },
   "file_extension": ".py",
   "mimetype": "text/x-python",
   "name": "python",
   "nbconvert_exporter": "python",
   "pygments_lexer": "ipython3",
   "version": "3.5.6"
  }
 },
 "nbformat": 4,
 "nbformat_minor": 2
}
