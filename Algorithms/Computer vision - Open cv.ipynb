{
 "cells": [
  {
   "cell_type": "code",
   "execution_count": 1,
   "metadata": {},
   "outputs": [],
   "source": [
    "import cv2\n"
   ]
  },
  {
   "cell_type": "code",
   "execution_count": 40,
   "metadata": {},
   "outputs": [],
   "source": [
    "image = cv2.imread(r'C:\\Users\\PRIYANSHU PANDEY\\Pictures\\Aviary Photos\\Aviary Stock Photo 2.png',0)   # alternative for gray images\n",
    "#img_gray = cv2.cvtColor(image, cv2.COLOR_BGR2GRAY)\n",
    "#cv2.imshow('window',img_gray)                           # to show images in gray scale \n",
    "cv2.imshow('orignal',image)                              # to show image in orignal color\n",
    "cv2.waitKey(0)\n",
    "cv2.destroyAllWindows()\n"
   ]
  },
  {
   "cell_type": "code",
   "execution_count": 31,
   "metadata": {},
   "outputs": [
    {
     "data": {
      "text/plain": [
       "True"
      ]
     },
     "execution_count": 31,
     "metadata": {},
     "output_type": "execute_result"
    }
   ],
   "source": [
    "cv2.imwrite(\"opencv_copy.jpg\",image)     # to write a new image or copy image "
   ]
  },
  {
   "cell_type": "code",
   "execution_count": 35,
   "metadata": {},
   "outputs": [],
   "source": [
    "cap = cv2.VideoCapture(r\"G:\\youtube prince\\37 kills squad.mp4\")\n",
    "\n",
    "while True:\n",
    "    \n",
    "    ret, frame = cap.read()\n",
    "    if ret:\n",
    "        cv2.imshow('Video', frame)\n",
    "        \n",
    "        if cv2.waitKey(2) & 0xFF == 27 : #ASCII for Esc key\n",
    "            break\n",
    "    else:\n",
    "        break\n",
    "        \n",
    "cap.release()\n",
    "cv2.destroyAllWindows()"
   ]
  },
  {
   "cell_type": "code",
   "execution_count": 6,
   "metadata": {},
   "outputs": [],
   "source": [
    "import cv2 \n",
    "import numpy\n",
    "image = cv2.imread(r'C:\\Users\\PRIYANSHU PANDEY\\Pictures\\Aviary Photos\\Aviary Stock Photo 2.png')\n",
    "cv2.imshow('orignal',image)                              # to show image in orignal color\n",
    "cv2.waitKey(0)\n",
    "cv2.destroyAllWindows()\n"
   ]
  },
  {
   "cell_type": "code",
   "execution_count": 44,
   "metadata": {},
   "outputs": [
    {
     "data": {
      "text/plain": [
       "(960, 720, 3)"
      ]
     },
     "execution_count": 44,
     "metadata": {},
     "output_type": "execute_result"
    }
   ],
   "source": [
    "image.shape # its is an array showing the 3 dimensional values as red , blue , green\n"
   ]
  },
  {
   "cell_type": "code",
   "execution_count": 46,
   "metadata": {},
   "outputs": [
    {
     "data": {
      "text/plain": [
       "2073600"
      ]
     },
     "execution_count": 46,
     "metadata": {},
     "output_type": "execute_result"
    }
   ],
   "source": [
    "image.size #shows the size\n"
   ]
  },
  {
   "cell_type": "code",
   "execution_count": 48,
   "metadata": {},
   "outputs": [
    {
     "data": {
      "text/plain": [
       "dtype('uint8')"
      ]
     },
     "execution_count": 48,
     "metadata": {},
     "output_type": "execute_result"
    }
   ],
   "source": [
    "image.dtype #shows the datatype of the image"
   ]
  },
  {
   "cell_type": "code",
   "execution_count": 4,
   "metadata": {},
   "outputs": [],
   "source": [
    "image[100:200, 300:500 , :]=0      # to black out some part of image\n",
    "cv2.imshow('image',image)                              # to show image in orignal color\n",
    "cv2.waitKey(0)\n",
    "cv2.destroyAllWindows()"
   ]
  },
  {
   "cell_type": "code",
   "execution_count": 9,
   "metadata": {},
   "outputs": [],
   "source": [
    "\n",
    "cropped = image[100:200, 300:500]     # to crop out some part of image\n",
    "cv2.imshow('Cropped image',cropped)                              # to show image in orignal color\n",
    "cv2.waitKey(0)\n",
    "cv2.destroyAllWindows()"
   ]
  },
  {
   "cell_type": "code",
   "execution_count": null,
   "metadata": {},
   "outputs": [],
   "source": []
  },
  {
   "cell_type": "code",
   "execution_count": 6,
   "metadata": {},
   "outputs": [],
   "source": [
    "import cv2\n",
    "import numpy\n",
    "\n",
    "cap = cv2.VideoCapture(0)      # To open your camera in real time\n",
    "\n",
    "while True:\n",
    "    \n",
    "    ret, frame = cap.read()\n",
    "    if ret:\n",
    "        cv2.imshow('Video', frame)\n",
    "        \n",
    "        if cv2.waitKey(2) & 0xFF == 27 : #ASCII for Esc key\n",
    "            break\n",
    "    else:\n",
    "        break\n",
    "        \n",
    "cap.release()\n",
    "cv2.destroyAllWindows()"
   ]
  },
  {
   "cell_type": "code",
   "execution_count": 9,
   "metadata": {},
   "outputs": [],
   "source": []
  },
  {
   "cell_type": "code",
   "execution_count": null,
   "metadata": {},
   "outputs": [],
   "source": []
  },
  {
   "cell_type": "code",
   "execution_count": 17,
   "metadata": {},
   "outputs": [],
   "source": []
  },
  {
   "cell_type": "code",
   "execution_count": 22,
   "metadata": {},
   "outputs": [],
   "source": []
  },
  {
   "cell_type": "code",
   "execution_count": 30,
   "metadata": {},
   "outputs": [],
   "source": [
    "# To detect a selected image in a orignal image \n",
    "\n",
    "\n",
    "image = cv2.imread(r'C:\\Users\\PRIYANSHU PANDEY\\Pictures\\Aviary Photos\\Aviary Stock Photo 2.png')\n",
    "                \n",
    "template = cv2.imread(r'C:\\Users\\PRIYANSHU PANDEY\\Pictures\\Aviary Photos\\OP.png')\n",
    "\n",
    "gray_image = cv2.imread(r'C:\\Users\\PRIYANSHU PANDEY\\Pictures\\Aviary Photos\\Aviary Stock Photo 2.png',0)\n",
    "                \n",
    "gray_template = cv2.imread(r'C:\\Users\\PRIYANSHU PANDEY\\Pictures\\Aviary Photos\\OP.png',0)\n",
    "\n",
    "w, h = gray_template.shape[::-1]\n",
    "\n",
    "result = cv2.matchTemplate(gray_image, gray_template, method = cv2.TM_CCOEFF)\n",
    "min_val, max_val, min_loc, max_loc = cv2.minMaxLoc(result)\n",
    "\n",
    "top_left = max_loc\n",
    "bottom_right = (top_left[0] + w, top_left[1] + h)\n",
    "\n",
    "cv2.rectangle(image, top_left, bottom_right,(0,255,0),3)\n",
    "\n",
    "cv2.imshow('image',image)\n",
    "\n",
    "\n",
    "cv2.waitKey(0)\n",
    "cv2.destroyAllWindows()"
   ]
  },
  {
   "cell_type": "code",
   "execution_count": 35,
   "metadata": {},
   "outputs": [],
   "source": [
    "# To blurred the image \n",
    "\n",
    "import cv2\n",
    "import numpy as np\n",
    "\n",
    "image = cv2.imread(r'C:\\Users\\PRIYANSHU PANDEY\\Pictures\\Aviary Photos\\Aviary Stock Photo 2.png')\n",
    "\n",
    "kernel = np.ones((12,12),np.float32)/144\n",
    "\n",
    "dist = cv2.filter2D(image,-1,kernel)\n",
    "\n",
    "cv2.imshow('orignal', image)\n",
    "cv2.imshow('blurred', dist)\n",
    "\n",
    "cv2.waitKey(0)\n",
    "cv2.destroyAllWindows()"
   ]
  },
  {
   "cell_type": "code",
   "execution_count": 56,
   "metadata": {},
   "outputs": [],
   "source": [
    "# Edge Detecter\n",
    "\n",
    "import cv2\n",
    "import numpy as np\n",
    "\n",
    "image = cv2.imread(r'C:\\Users\\PRIYANSHU PANDEY\\Pictures\\Aviary Photos\\Aviary Stock Photo 2.png',0)\n",
    "\n",
    "threshold1 = 100\n",
    "threshold2 = 200\n",
    "\n",
    "edge_img = cv2.Canny(image, threshold1, threshold2)\n",
    "\n",
    "cv2.imshow('edge image',edge_img)\n",
    "\n",
    "cv2.waitKey(0)\n",
    "cv2.destroyAllWindows()\n"
   ]
  },
  {
   "cell_type": "code",
   "execution_count": 59,
   "metadata": {},
   "outputs": [],
   "source": [
    "# Road lane Detecter\n",
    "\n",
    "import cv2\n",
    "import numpy as np\n",
    "\n",
    "image = cv2.imread(r'C:\\Users\\PRIYANSHU PANDEY\\Pictures\\Aviary Photos\\roadlane.jpg',0)\n",
    "\n",
    "threshold1 = 50\n",
    "threshold2 = 200\n",
    "\n",
    "edge_img = cv2.Canny(image, threshold1, threshold2)\n",
    "\n",
    "cv2.imshow('edge image',edge_img)\n",
    "\n",
    "\n",
    "cv2.waitKey(0)\n",
    "cv2.destroyAllWindows()\n"
   ]
  },
  {
   "cell_type": "code",
   "execution_count": 10,
   "metadata": {},
   "outputs": [],
   "source": [
    "# Road lane Detecter(removing clutter)\n",
    "\n",
    "import cv2\n",
    "import numpy as np\n",
    "\n",
    "image = cv2.imread(r'C:\\Users\\PRIYANSHU PANDEY\\Pictures\\Aviary Photos\\roadlane.jpg')\n",
    "grayimage = cv2.imread(r'C:\\Users\\PRIYANSHU PANDEY\\Pictures\\Aviary Photos\\roadlane.jpg',0)\n",
    "\n",
    "# smoothing the image and removing the clutter\n",
    "kernel_size = 11\n",
    "img_gray_blur = cv2.GaussianBlur(grayimage, (kernel_size,kernel_size), 0)\n",
    "\n",
    "threshold1 = 100\n",
    "threshold2 = 80\n",
    "\n",
    "img_gray_blur_edge = cv2.Canny(img_gray_blur, threshold1, threshold2)\n",
    "\n",
    "mask = np.zeros(grayimage.shape, dtype = np.uint8)\n",
    "h,w = img_gray_blur.shape\n",
    "\n",
    "roi_corners = np.array([[(.75*w,0.55*h),(.25*w,.55*h),(0,0.9*h),(0,h),(w,h)]], dtype=np.int32)\n",
    "\n",
    "ignore_mask_color = (255,)\n",
    "cv2.fillPoly(mask, roi_corners,ignore_mask_color)\n",
    "cv2.imshow('mask',mask)\n",
    "\n",
    "roi_img = cv2.bitwise_and(img_gray_blur_edge,mask)\n",
    "cv2.imshow('roi_img',roi_img)\n",
    "\n",
    "img_gray_blur_edge_bgr = cv2.cvtColor(img_gray_blur_edge, cv2.COLOR_GRAY2BGR)\n",
    "\n",
    "linesP = cv2.HoughLinesP(roi_img, 5, np.pi/180 , 100, None , 50, 130)\n",
    "if linesP is not None:\n",
    "    for i in range(0,len(linesP)):\n",
    "        l = linesP[i][0]\n",
    "        cv2.line(image, (l[0], l[1]),( l[2], l[3]), (0,0,255), 3, cv2.LINE_AA)\n",
    "cv2.imshow('final',image)\n",
    "\n",
    "cv2.waitKey(0)\n",
    "cv2.destroyAllWindows()\n"
   ]
  },
  {
   "cell_type": "code",
   "execution_count": null,
   "metadata": {},
   "outputs": [],
   "source": []
  }
 ],
 "metadata": {
  "kernelspec": {
   "display_name": "Python 3",
   "language": "python",
   "name": "python3"
  },
  "language_info": {
   "codemirror_mode": {
    "name": "ipython",
    "version": 3
   },
   "file_extension": ".py",
   "mimetype": "text/x-python",
   "name": "python",
   "nbconvert_exporter": "python",
   "pygments_lexer": "ipython3",
   "version": "3.5.6"
  }
 },
 "nbformat": 4,
 "nbformat_minor": 2
}
