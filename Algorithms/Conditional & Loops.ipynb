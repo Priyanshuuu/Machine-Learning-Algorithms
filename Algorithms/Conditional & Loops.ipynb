{
 "cells": [
  {
   "cell_type": "code",
   "execution_count": 3,
   "metadata": {},
   "outputs": [
    {
     "name": "stdout",
     "output_type": "stream",
     "text": [
      "<class 'bool'>\n",
      "<class 'bool'>\n"
     ]
    }
   ],
   "source": [
    "# booleaan\n",
    "a=True\n",
    "b=False\n",
    "print(type(a))\n",
    "print(type(b))"
   ]
  },
  {
   "cell_type": "code",
   "execution_count": 6,
   "metadata": {},
   "outputs": [
    {
     "name": "stdout",
     "output_type": "stream",
     "text": [
      "False\n",
      "True\n",
      "False\n",
      "True\n",
      "False\n"
     ]
    }
   ],
   "source": [
    "# Relational operators\n",
    "x=10\n",
    "y=20\n",
    "print(x>y)\n",
    "print(x<y)\n",
    "print(x==y)\n",
    "print(x!=y)\n",
    "print(x>y)"
   ]
  },
  {
   "cell_type": "code",
   "execution_count": 8,
   "metadata": {},
   "outputs": [
    {
     "name": "stdout",
     "output_type": "stream",
     "text": [
      "False\n",
      "True\n",
      "False\n",
      "True\n"
     ]
    }
   ],
   "source": [
    "# Logical operators\n",
    "x=10\n",
    "y=20\n",
    "z=30\n",
    "print(x>y and x>z)\n",
    "print(x<y and x<z)\n",
    "print(x>y or x>z)\n",
    "print(x<y or x<z)"
   ]
  },
  {
   "cell_type": "code",
   "execution_count": 10,
   "metadata": {},
   "outputs": [
    {
     "name": "stdout",
     "output_type": "stream",
     "text": [
      "Greater no.is = 50\n"
     ]
    }
   ],
   "source": [
    "# if-else-elif\n",
    "                                  # Program to find largest no. in between 3 no.s\n",
    "x=40\n",
    "y=50\n",
    "z=45\n",
    "\n",
    "if(x>=y and x>=z):\n",
    "    print(\"Greater no.is =\",x)\n",
    "elif(y>=x and y>=z):\n",
    "    print(\"Greater no.is =\",y)\n",
    "else:\n",
    "    print(\"Greater no.is =\",z)   "
   ]
  },
  {
   "cell_type": "code",
   "execution_count": 19,
   "metadata": {},
   "outputs": [
    {
     "name": "stdout",
     "output_type": "stream",
     "text": [
      "enter a number =5\n",
      "0 1 2 3 4 5 \n",
      "Done\n"
     ]
    }
   ],
   "source": [
    "# While loop\n",
    "N=int(input(\"enter a number =\"))\n",
    "i=0\n",
    "while i<=N :\n",
    "    print(i, end=' ')\n",
    "    i=i+1\n",
    "print()\n",
    "print(\"Done\")"
   ]
  },
  {
   "cell_type": "code",
   "execution_count": 22,
   "metadata": {},
   "outputs": [
    {
     "name": "stdout",
     "output_type": "stream",
     "text": [
      "enter a no.20\n",
      "1 3 5 7 9 11 13 15 17 19 "
     ]
    }
   ],
   "source": [
    "# For loops and range\n",
    "n=int(input(\"enter a no.\"))\n",
    "\n",
    "for i in range(1,n+1,2):        # To print even no.s in given range          \n",
    "    print(i,end=\" \")\n",
    "      "
   ]
  },
  {
   "cell_type": "code",
   "execution_count": 32,
   "metadata": {},
   "outputs": [
    {
     "name": "stdout",
     "output_type": "stream",
     "text": [
      "enter a no.100\n",
      "100  is not prime\n"
     ]
    }
   ],
   "source": [
    "# prime no. using for loop                        # To find whether the given no. is prime or not\n",
    "n=int(input(\"enter a no.\"))\n",
    "prime=True\n",
    "\n",
    "for i in range(2,n):                  \n",
    "    if(n%i==0):\n",
    "        prime=False\n",
    "        break\n",
    "    \n",
    "    \n",
    "if prime:            \n",
    "    print(n,' is prime')\n",
    "else:\n",
    "    print(n,' is not prime')"
   ]
  },
  {
   "cell_type": "code",
   "execution_count": 38,
   "metadata": {},
   "outputs": [
    {
     "name": "stdout",
     "output_type": "stream",
     "text": [
      "1 2 3 4 \n",
      "a b c d "
     ]
    }
   ],
   "source": [
    "# fast iteration\n",
    "\n",
    "A=(1,2,3,4)            # for tupples\n",
    "for i in A:\n",
    "    print(i,end=' ')\n",
    "print()\n",
    "\n",
    "B='abcd'               # for strings\n",
    "for i in B:\n",
    "    print(i,end=' ')"
   ]
  },
  {
   "cell_type": "code",
   "execution_count": null,
   "metadata": {},
   "outputs": [],
   "source": [
    "# number pattern (pyramid)\n",
    "n=int(input())\n",
    "for i in range(1,n+1):\n",
    "    x=1\n",
    "    for j in range(0,i):\n",
    "        print(x,end='')\n",
    "        x=x+1\n",
    "    for j in range(0,1):\n",
    "        s=(2*n-2*i)\n",
    "        print(' '*s,end='')\n",
    "    for j in range(i,0,-1):\n",
    "        print(j,end='')\n",
    "    print()"
   ]
  },
  {
   "cell_type": "code",
   "execution_count": null,
   "metadata": {},
   "outputs": [],
   "source": [
    "# reversing a string by its word\n",
    "s=input()\n",
    "for i in s:\n",
    "     if i!=\" \":\n",
    "        x=(s.split())\n",
    "        x=x[::-1]\n",
    "        y=\" \".join(x)\n",
    "        print(y[::-1])\n",
    "        break"
   ]
  },
  {
   "cell_type": "code",
   "execution_count": 2,
   "metadata": {},
   "outputs": [
    {
     "name": "stdout",
     "output_type": "stream",
     "text": [
      "5\n",
      "9\n",
      "14\n",
      "1953125\n",
      "25\n"
     ]
    }
   ],
   "source": [
    "# functions\n",
    "\n",
    "def sum(a,b):                #function for sum of two no\n",
    "    return(a+b)\n",
    "\n",
    "def power(a=5,b=2):           #power function with default arguement\n",
    "    return(a**b)\n",
    "\n",
    "a=int(input())\n",
    "b=int(input())\n",
    "print(sum(a,b))\n",
    "print(power(a,b))\n",
    "print(power(a))               #single arguement"
   ]
  },
  {
   "cell_type": "code",
   "execution_count": 9,
   "metadata": {},
   "outputs": [
    {
     "name": "stdout",
     "output_type": "stream",
     "text": [
      "55\n"
     ]
    }
   ],
   "source": [
    "#variable no. of input arguements\n",
    "\n",
    "def abc(a,b,*more):        # *more make a tupple of arguements\n",
    "    x=a+b\n",
    "    for i in more:\n",
    "        x+=i\n",
    "    return x\n",
    "    \n",
    "print(abc(10,9,8,7,6,5,4,3,2,1))"
   ]
  },
  {
   "cell_type": "code",
   "execution_count": 12,
   "metadata": {},
   "outputs": [
    {
     "name": "stdout",
     "output_type": "stream",
     "text": [
      "30\n",
      "-10\n"
     ]
    }
   ],
   "source": [
    "# More than one return value\n",
    "def val(a,b):\n",
    "    return a+b,a-b\n",
    "\n",
    "x,y=val(10,20)\n",
    "print(x)\n",
    "print(y)"
   ]
  },
  {
   "cell_type": "code",
   "execution_count": 14,
   "metadata": {},
   "outputs": [
    {
     "name": "stdout",
     "output_type": "stream",
     "text": [
      "4  is maximum\n"
     ]
    }
   ],
   "source": [
    "def printMax(a, b):\n",
    "    if a > b:\n",
    "        print(a, ' is maximum')\n",
    "    elif a == b:\n",
    "        print(a,  'is equal to', b)\n",
    "    else:\n",
    "        print(b, ' is maximum')\n",
    "printMax(3, 4)\n"
   ]
  },
  {
   "cell_type": "code",
   "execution_count": 16,
   "metadata": {},
   "outputs": [
    {
     "name": "stdout",
     "output_type": "stream",
     "text": [
      "50\n"
     ]
    }
   ],
   "source": [
    "x=50\n",
    "def max(x):\n",
    "    x=2\n",
    "max(x)\n",
    "print(x)\n"
   ]
  },
  {
   "cell_type": "code",
   "execution_count": 1,
   "metadata": {},
   "outputs": [
    {
     "name": "stdout",
     "output_type": "stream",
     "text": [
      "9 27\n"
     ]
    }
   ],
   "source": [
    "def power(x, y=2):\n",
    "    ans = 1\n",
    "    for i in range(y):\n",
    "        ans = ans * x\n",
    "    return ans\n",
    "print(power(3), end=\" \")\n",
    "print(power(3,3))"
   ]
  },
  {
   "cell_type": "code",
   "execution_count": 62,
   "metadata": {},
   "outputs": [
    {
     "name": "stdout",
     "output_type": "stream",
     "text": [
      "5\n",
      "2\n"
     ]
    }
   ],
   "source": [
    "# sum of even fiboacii numbers\n",
    "\n",
    "def fib(n):\n",
    "    i=0\n",
    "    a,b,x=0,1,0\n",
    "    while i<=(n-2):\n",
    "        c=a+b\n",
    "        a,b=b,c\n",
    "        if c%2==0:\n",
    "            x=x+c\n",
    "        \n",
    "        i=i+1\n",
    "    print(x)\n",
    "    \n",
    "x=int(input())    \n",
    "fib(x)"
   ]
  },
  {
   "cell_type": "code",
   "execution_count": 8,
   "metadata": {},
   "outputs": [
    {
     "name": "stdout",
     "output_type": "stream",
     "text": [
      "50\n",
      "44\n"
     ]
    }
   ],
   "source": [
    "# sum of even of fiboancii no. until u get number (n)\n",
    "\n",
    "n=int(input())\n",
    "a,b,i=1,0,0\n",
    "sum=0\n",
    "while (i<=10**6):\n",
    "    c=a+b\n",
    "    if  (c<=n):\n",
    "        if (c%2==0):\n",
    "            sum+=c\n",
    "    elif c>n:\n",
    "        break\n",
    "    b=a\n",
    "    a=c\n",
    "    i=i+1\n",
    "print(sum)\n",
    "   "
   ]
  },
  {
   "cell_type": "code",
   "execution_count": 1,
   "metadata": {},
   "outputs": [
    {
     "ename": "SyntaxError",
     "evalue": "invalid syntax (<ipython-input-1-1ad9ee001035>, line 8)",
     "output_type": "error",
     "traceback": [
      "\u001b[1;36m  File \u001b[1;32m\"<ipython-input-1-1ad9ee001035>\"\u001b[1;36m, line \u001b[1;32m8\u001b[0m\n\u001b[1;33m    for j in range()\u001b[0m\n\u001b[1;37m                     ^\u001b[0m\n\u001b[1;31mSyntaxError\u001b[0m\u001b[1;31m:\u001b[0m invalid syntax\n"
     ]
    }
   ],
   "source": [
    "# reverse series pattern\n",
    "\n",
    "n=int(input())\n",
    "for i in range(1,5):\n",
    "    x=1\n",
    "    y=[]\n",
    "    if i%2==0 :\n",
    "        for j in range() \n",
    "        print(x,end='')\n",
    "    if i%2==1 :\n",
    "        print(x,end='')\n",
    "        x=x+1\n",
    "    \n",
    "    print()"
   ]
  },
  {
   "cell_type": "code",
   "execution_count": 65,
   "metadata": {},
   "outputs": [
    {
     "name": "stdout",
     "output_type": "stream",
     "text": [
      "12\n",
      "1100"
     ]
    }
   ],
   "source": [
    "# decimal to binary\n",
    "\n",
    "def d2b(n):\n",
    "    c=n%2\n",
    "    y.append(str(c))\n",
    "    n=n//2\n",
    "    if n==1:\n",
    "        y.append(str(n))\n",
    "        print(''.join(y[::-1]),end='')\n",
    "    else:         \n",
    "        return d2b(n)\n",
    "n=int(input())\n",
    "y=[]\n",
    "d2b(n)\n"
   ]
  },
  {
   "cell_type": "code",
   "execution_count": 12,
   "metadata": {},
   "outputs": [
    {
     "name": "stdout",
     "output_type": "stream",
     "text": [
      "enter a no.9\n",
      "2\n",
      "3\n",
      "5\n",
      "7\n"
     ]
    }
   ],
   "source": [
    "# finding prime no. upto n numbers\n",
    "\n",
    "n=int(input(\"enter a no.\"))\n",
    "for i in range(2,n+1):\n",
    "    isprime=True\n",
    "    for j in range(2,i):\n",
    "        if(i%j==0):\n",
    "            isprime=False\n",
    "    if isprime:\n",
    "        print(i)        "
   ]
  },
  {
   "cell_type": "code",
   "execution_count": 13,
   "metadata": {},
   "outputs": [
    {
     "name": "stdout",
     "output_type": "stream",
     "text": [
      "9876543210\n"
     ]
    }
   ],
   "source": [
    "# reverse a tupple\n",
    "y=[]\n",
    "for i in range(0,10):\n",
    "    y.append(str(i))\n",
    "y=y[::-1]\n",
    "x=''.join(y)\n",
    "print(x)"
   ]
  },
  {
   "cell_type": "code",
   "execution_count": null,
   "metadata": {},
   "outputs": [],
   "source": [
    "#no. of trailing zeroes in n factorial\n",
    "\n",
    "n=int(input())\n",
    "d=0\n",
    "c=0\n",
    "while d<n:\n",
    "    for i in range(1,50):\n",
    "        d=5**(i)\n",
    "        c=c+(n//d)\n",
    "        continue\n",
    "print(c)        "
   ]
  },
  {
   "cell_type": "code",
   "execution_count": 3,
   "metadata": {},
   "outputs": [
    {
     "name": "stdout",
     "output_type": "stream",
     "text": [
      "Welcome to Coding Ninjas\n",
      "Ninjas Coding to Welcome\n"
     ]
    }
   ],
   "source": [
    "# reversing a string()\n",
    "s=input()\n",
    "for i in s:\n",
    "     if i!=\" \":\n",
    "        x=(s.split())\n",
    "        x=x[::-1]\n",
    "        y=\" \".join(x)\n",
    "        print(y)\n",
    "        break"
   ]
  }
 ],
 "metadata": {
  "kernelspec": {
   "display_name": "Python 3",
   "language": "python",
   "name": "python3"
  },
  "language_info": {
   "codemirror_mode": {
    "name": "ipython",
    "version": 3
   },
   "file_extension": ".py",
   "mimetype": "text/x-python",
   "name": "python",
   "nbconvert_exporter": "python",
   "pygments_lexer": "ipython3",
   "version": "3.6.5"
  }
 },
 "nbformat": 4,
 "nbformat_minor": 2
}
