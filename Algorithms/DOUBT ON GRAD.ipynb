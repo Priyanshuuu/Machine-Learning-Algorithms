{
 "cells": [
  {
   "cell_type": "code",
   "execution_count": null,
   "metadata": {},
   "outputs": [],
   "source": [
    "'''(import numpy as np\n",
    "import pandas as pd\n",
    "\n",
    "def gd(x,y,alpha,num_iterations):\n",
    "    converged = False\n",
    "    iter = 0\n",
    "    N = x.shape[0]            \n",
    "    \n",
    "    m = np.zeros(x.shape[1])    # creating arrays of zeroes\n",
    "    \n",
    "\n",
    "\n",
    "\n",
    "    while not converged:\n",
    "     \n",
    "        grad1 = (1/N) * sum([( m*x[i] - y[i])*x[i] for i in range(N)])  # calculating gradient\n",
    "\n",
    "  \n",
    "        \n",
    "        temp1 = m - alpha * grad1    # new value of m\n",
    "\n",
    "      \n",
    "        \n",
    "        new_m = temp1              \n",
    "\n",
    "       \n",
    "        cost= sum( [ (new_m*x[i] - y[i])**2 for i in range(N) ] )   # cost function \n",
    "\n",
    "        #print(iter, 'Cost :', cost)\n",
    "        \n",
    "        iter += 1  \n",
    "\n",
    "        if iter == num_iterations:     # if all iterations excced end the while loop\n",
    "          \n",
    "            converged = True     \n",
    "\n",
    "    return new_m)'''\n",
    "\n"
   ]
  },
  {
   "cell_type": "code",
   "execution_count": 51,
   "metadata": {},
   "outputs": [],
   "source": [
    "def step_gd(x,y,alpha,m):\n",
    "    N = x.shape[0]\n",
    "    m = np.zeros(x.shape[1])\n",
    "    new_m=0\n",
    "    for i in range(N):\n",
    "        grad1 = (-2/N) * sum([( m[j]*x[i] - y[i])*x[i,j] for j in range(len(m))])  # calculating gradient\n",
    "        new_m = m - alpha * grad1                                                 # new value of m\n",
    "        return new_m             \n",
    "    "
   ]
  },
  {
   "cell_type": "code",
   "execution_count": 52,
   "metadata": {},
   "outputs": [],
   "source": [
    "def gd(x,y,alpha,iterations):\n",
    "    m = 0\n",
    "    for i in range(iterations):\n",
    "        m=step_gd(x,y,alpha,m)\n",
    "        #print(i, 'Cost :', cost( x,y, m))\n",
    "    return m\n",
    "    "
   ]
  },
  {
   "cell_type": "code",
   "execution_count": 53,
   "metadata": {},
   "outputs": [],
   "source": [
    "def cost( x, y, m):\n",
    "    cost= sum( [ (m*x[i] - y[i])**2 for i in range(N) ] )   # cost function\n",
    "    return cost"
   ]
  },
  {
   "cell_type": "code",
   "execution_count": 60,
   "metadata": {},
   "outputs": [],
   "source": [
    "\n",
    "\n",
    "def run():\n",
    "    import pandas as pd\n",
    "    import numpy as np\n",
    "    data=pd.read_csv(\"training_boston_x_y_train.csv\",delimiter=',')\n",
    "    \n",
    "    data['C']=np.ones(len(data))         # adding all one column to data\n",
    "    data['YY']=data[' Y']                # just changing the position of y to last column\n",
    "    del data[' Y']                       # so here i have to y columns one at last and one at last 3 so i delted the last 3rd\n",
    "    dat=np.array(data)      \n",
    "    #print(dat.shape)\n",
    "    x=dat[:,0:-1]                       #taking x_train part\n",
    "    \n",
    "    y=dat[:,-1]                         # y train part\n",
    "    alpha = 0.005\n",
    "    num_iterations = 500\n",
    "    m= gd(x,y, alpha, num_iterations)       #passing the data to get new m which includes last columns as c\n",
    "    return m\n"
   ]
  },
  {
   "cell_type": "code",
   "execution_count": 61,
   "metadata": {},
   "outputs": [],
   "source": [
    "import numpy as np\n",
    "import pandas as pd\n",
    "\n",
    "x_tes=pd.read_csv('test_boston_x_test.csv',delimiter=',')\n",
    "xtn=np.ones(len(x_tes))                                    # adding a column as all ones in it\n",
    "x_tes['last']=xtn\n",
    "x_test=np.array(x_tes)"
   ]
  },
  {
   "cell_type": "code",
   "execution_count": 63,
   "metadata": {},
   "outputs": [],
   "source": [
    "m=run()    #gives me the array of m with last element as c"
   ]
  },
  {
   "cell_type": "code",
   "execution_count": 64,
   "metadata": {},
   "outputs": [],
   "source": [
    "import numpy as np\n",
    "import pandas as pd\n",
    "\n",
    "def predict(x,m):\n",
    "    N=len(x)\n",
    "    y=[]\n",
    "    #print(len(m))\n",
    "    for i in range(N):\n",
    "        z=[]\n",
    "       \n",
    "        z.append(sum((m[j]*x[i,j] for j in range(len(m)))))      # calculating y prediction\n",
    "        y.append(z[0])\n",
    "        z=[]\n",
    "    return y\n"
   ]
  },
  {
   "cell_type": "code",
   "execution_count": 65,
   "metadata": {},
   "outputs": [
    {
     "data": {
      "text/plain": [
       "array([ 0.24421,  0.10771,  0.24179,  0.10619, -0.14009,  0.23097,\n",
       "        0.17179,  0.09459,  0.15778,  0.19826,  0.08726,  0.18652,\n",
       "        0.14209,  0.29958,  0.24448,  0.19999,  0.19735,  0.20932,\n",
       "        0.23611,  0.11781,  0.07915,  0.16884,  0.33027,  0.37109,\n",
       "       -0.07927,  0.11606,  0.29129,  0.13706,  0.23691,  0.08837,\n",
       "        0.18793,  0.13218,  0.19655, -0.09818,  0.18681,  0.23443,\n",
       "        0.0866 ,  0.22459, -0.16673, -0.20855,  0.26009,  0.33023,\n",
       "        0.04011, -0.00413, -0.24331,  0.30403,  0.15856,  0.38253,\n",
       "       -0.05932, -0.06955,  0.42319, -0.05424,  0.087  ,  0.07406,\n",
       "        0.15855,  0.09752,  0.16096,  0.04667, -0.05731, -0.13945,\n",
       "        0.18462,  0.17834,  0.195  , -0.07133, -0.09204,  0.25257,\n",
       "       -0.06214,  0.17148,  0.04134,  0.22332,  0.09674, -0.00178,\n",
       "       -0.21296,  0.39618,  0.20631,  0.25324,  0.22995, -0.08833,\n",
       "        0.37568, -0.02605,  0.10356,  0.18642,  0.04331, -0.04943,\n",
       "        0.28107,  0.25836, -0.19646,  0.05727, -0.03883,  0.16998,\n",
       "        0.08164,  0.07955, -0.11202,  0.12329,  0.09469,  0.42731,\n",
       "        0.03367,  0.34795,  0.27713,  0.17322,  0.17387,  0.20475,\n",
       "        0.23459, -0.07837,  0.18883,  0.19482,  0.41285,  0.22164,\n",
       "       -0.09477,  0.31484, -0.27008,  0.0223 , -0.10124,  0.30354,\n",
       "        0.06465,  0.13131,  0.17947,  0.20272,  0.00721,  0.04721,\n",
       "        0.30495,  0.14537,  0.18422,  0.26923,  0.08001, -0.04977])"
      ]
     },
     "execution_count": 65,
     "metadata": {},
     "output_type": "execute_result"
    }
   ],
   "source": [
    "import numpy as np\n",
    "import pandas as pd\n",
    "\n",
    "y_pred=np.array(predict(x_test,m))\n",
    "y_test_pred=np.around(y_pred,decimals=5)\n",
    "np.savetxt(\"trygradientn.csv\",y_test_pred)\n",
    "y_test_pred"
   ]
  },
  {
   "cell_type": "code",
   "execution_count": null,
   "metadata": {},
   "outputs": [],
   "source": []
  }
 ],
 "metadata": {
  "kernelspec": {
   "display_name": "Python 3",
   "language": "python",
   "name": "python3"
  },
  "language_info": {
   "codemirror_mode": {
    "name": "ipython",
    "version": 3
   },
   "file_extension": ".py",
   "mimetype": "text/x-python",
   "name": "python",
   "nbconvert_exporter": "python",
   "pygments_lexer": "ipython3",
   "version": "3.6.5"
  }
 },
 "nbformat": 4,
 "nbformat_minor": 2
}
