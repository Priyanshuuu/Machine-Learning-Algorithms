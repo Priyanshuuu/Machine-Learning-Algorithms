{
 "cells": [
  {
   "cell_type": "code",
   "execution_count": 5,
   "metadata": {},
   "outputs": [
    {
     "name": "stdout",
     "output_type": "stream",
     "text": [
      "{22: 32, 'abc': 45}\n"
     ]
    },
    {
     "data": {
      "text/plain": [
       "{22: 256, 'abc': 66, 23: 233}"
      ]
     },
     "execution_count": 5,
     "metadata": {},
     "output_type": "execute_result"
    }
   ],
   "source": [
    "# How to create a dictionary and insert/delete   dictionary={key:value,key:value......}\n",
    "d={}\n",
    "d[22]=32     \n",
    "d['abc']=45\n",
    "print(d)\n",
    "\n",
    "d={22: 32, 'abc': 66}\n",
    "d[23]=233                          #insert\n",
    "d[22]=256                          #update \n",
    "\n",
    "d"
   ]
  },
  {
   "cell_type": "code",
   "execution_count": 7,
   "metadata": {},
   "outputs": [
    {
     "name": "stdout",
     "output_type": "stream",
     "text": [
      "22:256\n",
      "abc:66\n",
      "23:233\n"
     ]
    }
   ],
   "source": [
    "# How to iterate over a dictionary\n",
    "\n",
    "for i in d:\n",
    "    print(i,end=':')\n",
    "    print(d[i])\n",
    "    "
   ]
  },
  {
   "cell_type": "code",
   "execution_count": 9,
   "metadata": {},
   "outputs": [
    {
     "ename": "KeyError",
     "evalue": "23",
     "output_type": "error",
     "traceback": [
      "\u001b[1;31m---------------------------------------------------------------------------\u001b[0m",
      "\u001b[1;31mKeyError\u001b[0m                                  Traceback (most recent call last)",
      "\u001b[1;32m<ipython-input-9-f789c0fc5ca8>\u001b[0m in \u001b[0;36m<module>\u001b[1;34m()\u001b[0m\n\u001b[0;32m      1\u001b[0m \u001b[1;31m# delete elements on dictionary\u001b[0m\u001b[1;33m\u001b[0m\u001b[1;33m\u001b[0m\u001b[0m\n\u001b[1;32m----> 2\u001b[1;33m \u001b[1;32mdel\u001b[0m \u001b[0md\u001b[0m\u001b[1;33m[\u001b[0m\u001b[1;36m23\u001b[0m\u001b[1;33m]\u001b[0m\u001b[1;33m\u001b[0m\u001b[0m\n\u001b[0m\u001b[0;32m      3\u001b[0m \u001b[0md\u001b[0m\u001b[1;33m\u001b[0m\u001b[0m\n",
      "\u001b[1;31mKeyError\u001b[0m: 23"
     ]
    }
   ],
   "source": [
    "# delete elements on dictionary\n",
    "del d[23]\n",
    "d"
   ]
  },
  {
   "cell_type": "code",
   "execution_count": 16,
   "metadata": {},
   "outputs": [
    {
     "name": "stdout",
     "output_type": "stream",
     "text": [
      "{}\n",
      "dict_keys([23])\n",
      "dict_values([111])\n",
      "True\n"
     ]
    }
   ],
   "source": [
    "# common functions\n",
    "d={23:111}\n",
    "d1={'abc':111}\n",
    "d==d1                     # return False\n",
    "\n",
    "d={23:111}\n",
    "d1={23:111}\n",
    "d==d1                     #return True\n",
    "\n",
    "d1.clear()                #TO empty the dictinary\n",
    "print(d1)\n",
    "\n",
    "print(d.keys())            #give u all keys\n",
    "print(d.values())          #give u all keys\n",
    "\n",
    "\n",
    "print(23 in d)          #to check whether a key is in dictionary or not"
   ]
  },
  {
   "cell_type": "code",
   "execution_count": 20,
   "metadata": {},
   "outputs": [
    {
     "name": "stdout",
     "output_type": "stream",
     "text": [
      "True\n"
     ]
    },
    {
     "data": {
      "text/plain": [
       "False"
      ]
     },
     "execution_count": 20,
     "metadata": {},
     "output_type": "execute_result"
    }
   ],
   "source": []
  }
 ],
 "metadata": {
  "kernelspec": {
   "display_name": "Python 3",
   "language": "python",
   "name": "python3"
  },
  "language_info": {
   "codemirror_mode": {
    "name": "ipython",
    "version": 3
   },
   "file_extension": ".py",
   "mimetype": "text/x-python",
   "name": "python",
   "nbconvert_exporter": "python",
   "pygments_lexer": "ipython3",
   "version": "3.6.5"
  }
 },
 "nbformat": 4,
 "nbformat_minor": 2
}
