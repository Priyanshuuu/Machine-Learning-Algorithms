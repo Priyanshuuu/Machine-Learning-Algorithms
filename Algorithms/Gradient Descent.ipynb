{
 "cells": [
  {
   "cell_type": "code",
   "execution_count": 89,
   "metadata": {},
   "outputs": [],
   "source": [
    "import numpy as np\n",
    "\n",
    "data=np.loadtxt('training_boston_x_y_train.csv',delimiter=',')\n",
    "len(data)\n",
    "x=data[:,10]\n",
    "y=data[:,13]"
   ]
  },
  {
   "cell_type": "code",
   "execution_count": 90,
   "metadata": {},
   "outputs": [],
   "source": [
    "def step_gradient( points, learning_rate, m, c):\n",
    "    m_slope=0\n",
    "    c_slope=0\n",
    "    M=len(points)\n",
    "    for i in range(M):\n",
    "        x=points[i,10]\n",
    "        y=points[i,13]\n",
    "        m_slope += (-2/M)* (y- m*x -c)*x\n",
    "        c_slope += (-2/M)* (y- m*x -c)\n",
    "        new_m = m - learning_rate*m_slope\n",
    "        new_c = c - learning_rate*c_slope\n",
    "        return new_m, new_c\n",
    "    "
   ]
  },
  {
   "cell_type": "code",
   "execution_count": 91,
   "metadata": {},
   "outputs": [],
   "source": [
    "def gd( points, learning_rate, num_iterations):\n",
    "    m=0\n",
    "    c=0\n",
    "    for i in range(num_iterations):\n",
    "        m,c = step_gradient( points, learning_rate, m, c)\n",
    "        print(i, 'Cost :', cost( points, m, c))\n",
    "    return m,c\n",
    "        "
   ]
  },
  {
   "cell_type": "code",
   "execution_count": 92,
   "metadata": {},
   "outputs": [],
   "source": [
    "def cost( points, m, c):\n",
    "    total_cost = 0\n",
    "    M = len(points)\n",
    "    for i in range(M):\n",
    "        x = points[i, 5]\n",
    "        y = points[i, 13]\n",
    "        total_cost += (1/M)*((y - m*x - c)**2)\n",
    "    return total_cost"
   ]
  },
  {
   "cell_type": "code",
   "execution_count": 93,
   "metadata": {},
   "outputs": [],
   "source": [
    "def run():\n",
    "    #data = np.loadtxt('training_boston_x_y_train.csv',delimiter=',')\n",
    "    learning_rate = 0.01\n",
    "    num_iterations = 100\n",
    "    \n",
    "    m,c = gd(data, learning_rate, num_iterations)\n",
    "    print('m =',m,'c =',c)"
   ]
  },
  {
   "cell_type": "code",
   "execution_count": 1,
   "metadata": {},
   "outputs": [],
   "source": [
    "#run()"
   ]
  }
 ],
 "metadata": {
  "kernelspec": {
   "display_name": "Python 3",
   "language": "python",
   "name": "python3"
  },
  "language_info": {
   "codemirror_mode": {
    "name": "ipython",
    "version": 3
   },
   "file_extension": ".py",
   "mimetype": "text/x-python",
   "name": "python",
   "nbconvert_exporter": "python",
   "pygments_lexer": "ipython3",
   "version": "3.6.5"
  }
 },
 "nbformat": 4,
 "nbformat_minor": 2
}
