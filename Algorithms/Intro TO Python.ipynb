{
 "cells": [
  {
   "cell_type": "markdown",
   "metadata": {},
   "source": [
    "## Intro to Jupyter\n",
    "we can write markdown or python code in our cells . you can choose accordingly in the dropdown above."
   ]
  },
  {
   "cell_type": "code",
   "execution_count": 4,
   "metadata": {},
   "outputs": [
    {
     "name": "stdout",
     "output_type": "stream",
     "text": [
      "10 20\n",
      "20\n"
     ]
    }
   ],
   "source": [
    "# print function\n",
    "a=10\n",
    "b=a+10\n",
    "print(a, end=\" \")\n",
    "print(b)\n",
    "print(b)"
   ]
  },
  {
   "cell_type": "code",
   "execution_count": 13,
   "metadata": {},
   "outputs": [
    {
     "data": {
      "text/plain": [
       "20"
      ]
     },
     "execution_count": 13,
     "metadata": {},
     "output_type": "execute_result"
    }
   ],
   "source": [
    "#last line is output\n",
    "a=10\n",
    "b=20\n",
    "a  #also print without print function\n",
    "b  #but not when to variables are there(reason that it will give the output of the last line)\n"
   ]
  },
  {
   "cell_type": "code",
   "execution_count": 10,
   "metadata": {},
   "outputs": [
    {
     "name": "stdout",
     "output_type": "stream",
     "text": [
      "<class 'int'>\n",
      "<class 'float'>\n",
      "<class 'str'>\n",
      "<class 'complex'>\n"
     ]
    }
   ],
   "source": [
    "a=10\n",
    "print(type(a))    #integer type\n",
    "\n",
    "a=10.8\n",
    "print(type(a))    #float type\n",
    "\n",
    "a='character'     \n",
    "print(type(a))    #string type\n",
    "\n",
    "a=2+3j \n",
    "print(type(a))    #complex type\n",
    " \n"
   ]
  },
  {
   "cell_type": "code",
   "execution_count": 12,
   "metadata": {},
   "outputs": [
    {
     "data": {
      "text/plain": [
       "(2+3j)"
      ]
     },
     "execution_count": 12,
     "metadata": {},
     "output_type": "execute_result"
    }
   ],
   "source": [
    "#operators\n",
    "a  #here value of a print bcz last cell runs is of third no.\n",
    "\n"
   ]
  },
  {
   "cell_type": "code",
   "execution_count": 15,
   "metadata": {},
   "outputs": [
    {
     "data": {
      "text/plain": [
       "10"
      ]
     },
     "execution_count": 15,
     "metadata": {},
     "output_type": "execute_result"
    }
   ],
   "source": [
    "a  #here value is changes bcz i use to run the  second cell\n",
    "    #(hence this means its not depends on the order of cell , its all depend on the order of execution)"
   ]
  },
  {
   "cell_type": "code",
   "execution_count": 17,
   "metadata": {},
   "outputs": [
    {
     "name": "stdout",
     "output_type": "stream",
     "text": [
      "20\n",
      "30\n",
      "50\n",
      "-10\n",
      "600\n",
      "400\n",
      "0.6666666666666666\n",
      "0\n",
      "20\n"
     ]
    }
   ],
   "source": [
    "#Arithmatic operators\n",
    "\n",
    "a,b=20,30\n",
    "print(a)\n",
    "print(b)\n",
    "print(a+b)\n",
    "print(a-b)\n",
    "print(a*b)\n",
    "print(a**2)\n",
    "print(a/b)\n",
    "print(a//b)\n",
    "print(a%b)\n"
   ]
  },
  {
   "cell_type": "code",
   "execution_count": 41,
   "metadata": {},
   "outputs": [
    {
     "name": "stdout",
     "output_type": "stream",
     "text": [
      "this is string\n",
      "14\n",
      "t\n",
      "how do you know that changed string\n"
     ]
    }
   ],
   "source": [
    "#strings \n",
    "c='this is string'\n",
    "print(c)\n",
    "\n",
    "#typical string properties\n",
    "print(len(c))\n",
    "print(c[0])\n",
    "\n",
    "#strings are immutable\n",
    "\n",
    "# c[0]=2                     #we cannot change the part of a string\n",
    "# but we can pint to the new string \n",
    "c='changed string'\n",
    "b='how do you know that '\n",
    "a=b+c                        #concatination of a string\n",
    "print(a)\n",
    "#print(a+2)                   #strings cannot addded to integer\n",
    "                             #there is no character in python only strings\n",
    "\n",
    "\n",
    "\n",
    "\n",
    "\n"
   ]
  },
  {
   "cell_type": "code",
   "execution_count": 44,
   "metadata": {},
   "outputs": [
    {
     "name": "stdout",
     "output_type": "stream",
     "text": [
      "   ABCD\n",
      "   ABcd\n",
      "   abcd\n",
      "ABcd\n",
      "False\n"
     ]
    }
   ],
   "source": [
    "#few functions for string\n",
    "\n",
    "a=\"   ABcd\"\n",
    "print(a.upper())\n",
    "print(a)\n",
    "print(a.lower())\n",
    "print(a.strip())     #remove the white  spcace\n",
    "print(a.isalpha())   #to check the string that its is alphabatic \n"
   ]
  },
  {
   "cell_type": "code",
   "execution_count": 50,
   "metadata": {},
   "outputs": [
    {
     "name": "stdout",
     "output_type": "stream",
     "text": [
      "12345\n",
      "12345\n",
      "<class 'str'>\n",
      "12345\n",
      "12345\n",
      "<class 'int'>\n"
     ]
    }
   ],
   "source": [
    "#user input\n",
    "\n",
    "a=input()\n",
    "print(a)\n",
    "print(type(a))       #see here input function by default makes a string whether u give integer of else\n",
    "\n",
    "a=int(input())       #to make ur input a integer type(same for all types eg. float)\n",
    "print(a)\n",
    "print(type(a))\n"
   ]
  },
  {
   "cell_type": "code",
   "execution_count": 9,
   "metadata": {},
   "outputs": [
    {
     "name": "stdout",
     "output_type": "stream",
     "text": [
      "cdef\n",
      "cdef\n",
      "fghi\n",
      "abcde\n",
      "abcdefghi\n"
     ]
    }
   ],
   "source": [
    "#slicing -(to cut and get a part of negative string)\n",
    "\n",
    "a='abcdefghi'\n",
    "print(a[2:6])\n",
    "print(a[-7:-3])        #negative indexing\n",
    "print(a[5:])\n",
    "print(a[:5])\n",
    "print(a[:])\n"
   ]
  },
  {
   "cell_type": "code",
   "execution_count": 63,
   "metadata": {},
   "outputs": [
    {
     "name": "stdout",
     "output_type": "stream",
     "text": [
      "<class 'tuple'>\n",
      "(1, 'abc', 5.4)\n",
      "(1, 'abc')\n"
     ]
    }
   ],
   "source": [
    "# Tupple-(its kind of array or it also multiple kind of entities bundled up together)\n",
    "\n",
    "t=(1,2,3,4)         #contents of tupple are exclusive in last \n",
    "print(type(t))\n",
    "t=(1,'abc',5.4)     #tupples are immutable\n",
    "print(t)\n",
    "print(t[0:2])\n"
   ]
  },
  {
   "cell_type": "code",
   "execution_count": 10,
   "metadata": {},
   "outputs": [
    {
     "name": "stdout",
     "output_type": "stream",
     "text": [
      "(1, 2, 3, 10, 1, 'abc', 5.4)\n",
      "(1, 2, 3, 10, 1, 2, 3, 10)\n",
      "True\n",
      "True\n",
      "True\n",
      "10\n",
      "4\n"
     ]
    }
   ],
   "source": [
    "#operators on tupple\n",
    "\n",
    "t=(1,2,3,10)\n",
    "s=(1,'abc',5.4)     #tupples are immutable\n",
    "p=t+s\n",
    "print(p)\n",
    "print(t*2)          #tupple can multiply by an integer\n",
    "print(1 in t)\n",
    "print(1 in s)\n",
    "print(10 in t)\n",
    "print(max(t))\n",
    "print(len(t))"
   ]
  },
  {
   "cell_type": "code",
   "execution_count": 17,
   "metadata": {},
   "outputs": [
    {
     "name": "stdout",
     "output_type": "stream",
     "text": [
      "abc def\n",
      "cba fed\n"
     ]
    }
   ],
   "source": [
    "s=input()\n",
    "for i in s:\n",
    "     if i!=\" \":\n",
    "        x=(s.split())\n",
    "        x=x[::-1]\n",
    "        y=\" \".join(x)\n",
    "        print(y[::-1])\n",
    "        break"
   ]
  },
  {
   "cell_type": "code",
   "execution_count": 19,
   "metadata": {},
   "outputs": [
    {
     "name": "stdout",
     "output_type": "stream",
     "text": [
      "cba fed\n"
     ]
    }
   ],
   "source": [
    "s=\"abc def\"\n",
    "for i in s:\n",
    "     if i!=\" \":\n",
    "        x=(s.split())\n",
    "        x=x[::-1]\n",
    "        y=\" \".join(x)\n",
    "        print(y[::-1])\n",
    "        break"
   ]
  }
 ],
 "metadata": {
  "kernelspec": {
   "display_name": "Python 3",
   "language": "python",
   "name": "python3"
  },
  "language_info": {
   "codemirror_mode": {
    "name": "ipython",
    "version": 3
   },
   "file_extension": ".py",
   "mimetype": "text/x-python",
   "name": "python",
   "nbconvert_exporter": "python",
   "pygments_lexer": "ipython3",
   "version": "3.6.5"
  }
 },
 "nbformat": 4,
 "nbformat_minor": 2
}
