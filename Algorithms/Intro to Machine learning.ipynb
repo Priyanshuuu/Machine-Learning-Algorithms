{
 "cells": [
  {
   "cell_type": "code",
   "execution_count": 2,
   "metadata": {},
   "outputs": [],
   "source": [
    "# how to work in supervised learning\n",
    "#. load the data\n",
    "#. clean the data\n",
    "#. train your algorithm with 80% of actual data\n",
    "#. test yout algorithm with 20% data that u keep\n",
    "\n",
    "\n",
    "from sklearn import datasets"
   ]
  },
  {
   "cell_type": "code",
   "execution_count": 3,
   "metadata": {},
   "outputs": [
    {
     "data": {
      "text/plain": [
       "(506, 13)"
      ]
     },
     "execution_count": 3,
     "metadata": {},
     "output_type": "execute_result"
    }
   ],
   "source": [
    "boston=datasets.load_boston()\n",
    "type(boston)\n",
    "x=boston.data\n",
    "y=boston.target\n",
    "x.shape            #shape is used for printing size  of the data\n"
   ]
  },
  {
   "cell_type": "code",
   "execution_count": 40,
   "metadata": {},
   "outputs": [
    {
     "name": "stdout",
     "output_type": "stream",
     "text": [
      "['CRIM' 'ZN' 'INDUS' 'CHAS' 'NOX' 'RM' 'AGE' 'DIS' 'RAD' 'TAX' 'PTRATIO'\n",
      " 'B' 'LSTAT']\n"
     ]
    },
    {
     "data": {
      "text/plain": [
       "(506, 14)"
      ]
     },
     "execution_count": 40,
     "metadata": {},
     "output_type": "execute_result"
    }
   ],
   "source": [
    "import pandas as p\n",
    "v=p.DataFrame(x)\n",
    "print(boston.feature_names)\n",
    "v.columns=boston.feature_names\n",
    "v.describe()\n",
    "v['Age_Age'] = v.AGE**2\n",
    "x1= v.values\n",
    "x1.shape"
   ]
  },
  {
   "cell_type": "code",
   "execution_count": 38,
   "metadata": {},
   "outputs": [],
   "source": [
    "#boston.DESCR"
   ]
  },
  {
   "cell_type": "code",
   "execution_count": 44,
   "metadata": {},
   "outputs": [
    {
     "name": "stdout",
     "output_type": "stream",
     "text": [
      "(379, 13)\n",
      "(127, 13)\n",
      "(379,)\n",
      "(127,)\n"
     ]
    }
   ],
   "source": [
    "from sklearn import model_selection                     #model selection is used to split the data\n",
    "x_train,x_test,y_train,y_test=model_selection.train_test_split(x,y,random_state=0)\n",
    "x1_train,x1_test,y1_train,y1_test=model_selection.train_test_split(x1,y,random_state=0)   # random_satate splits in to same data\n",
    "\n",
    "\n",
    "print(x_train.shape)\n",
    "print(x_test.shape)\n",
    "print(y_train.shape)\n",
    "print(y_test.shape)"
   ]
  },
  {
   "cell_type": "code",
   "execution_count": 45,
   "metadata": {},
   "outputs": [],
   "source": [
    "from sklearn.linear_model import       #linear regression is used for making linar model\n",
    "alg1=LinearRegression()                                   #making an object as algorithm\n",
    "alg2=LinearRegression()                                   #making an object as algorithm"
   ]
  },
  {
   "cell_type": "code",
   "execution_count": 48,
   "metadata": {},
   "outputs": [
    {
     "data": {
      "text/plain": [
       "LinearRegression(copy_X=True, fit_intercept=True, n_jobs=1, normalize=False)"
      ]
     },
     "execution_count": 48,
     "metadata": {},
     "output_type": "execute_result"
    }
   ],
   "source": [
    "alg1.fit(x_train,y_train)\n",
    "alg2.fit(x1_train,y1_train)\n"
   ]
  },
  {
   "cell_type": "code",
   "execution_count": 8,
   "metadata": {},
   "outputs": [],
   "source": [
    "y_pred=alg1.predict(x_test)   \n",
    "# now comapare y_pred and y_test"
   ]
  },
  {
   "cell_type": "code",
   "execution_count": 51,
   "metadata": {},
   "outputs": [
    {
     "name": "stdout",
     "output_type": "stream",
     "text": [
      "Train score : 0.7697448370563938\n",
      "Test score  : 0.6353620786674621\n",
      "\n",
      "Train score : 0.7706930144759878\n",
      "Test score  : 0.6431839817871166\n"
     ]
    }
   ],
   "source": [
    "train_score=alg1.score(x_train,y_train)\n",
    "test_score=alg1.score(x_test,y_test)\n",
    "print('Train score :',train_score)\n",
    "print('Test score  :',test_score)\n",
    "print()\n",
    "train1_score=alg2.score(x1_train,y1_train)              # hence we improve our results by adding feautures\n",
    "test1_score=alg2.score(x1_test,y1_test)\n",
    "print('Train score :',train1_score)                       \n",
    "print('Test score  :',test1_score)"
   ]
  },
  {
   "cell_type": "code",
   "execution_count": 37,
   "metadata": {},
   "outputs": [
    {
     "data": {
      "image/png": "[encoded data removed]",
      "text/plain": [
       "<Figure size 432x288 with 1 Axes>"
      ]
     },
     "metadata": {},
     "output_type": "display_data"
    }
   ],
   "source": [
    "import matplotlib.pyplot as plt    # a library to make graph of given data\n",
    "plt.scatter(y_pred,y_test)         #scatter is a function that shows ur data\n",
    "plt.axis([0,40,0,40])              # axis is used to give a particular axis to ur graph\n",
    "plt.show()                         # show function display ur data in a graph format"
   ]
  },
  {
   "cell_type": "code",
   "execution_count": null,
   "metadata": {},
   "outputs": [],
   "source": []
  }
 ],
 "metadata": {
  "kernelspec": {
   "display_name": "Python 3",
   "language": "python",
   "name": "python3"
  },
  "language_info": {
   "codemirror_mode": {
    "name": "ipython",
    "version": 3
   },
   "file_extension": ".py",
   "mimetype": "text/x-python",
   "name": "python",
   "nbconvert_exporter": "python",
   "pygments_lexer": "ipython3",
   "version": "3.6.5"
  }
 },
 "nbformat": 4,
 "nbformat_minor": 2
}
