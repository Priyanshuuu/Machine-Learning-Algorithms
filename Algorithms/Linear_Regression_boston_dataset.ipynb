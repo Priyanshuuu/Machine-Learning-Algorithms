{
 "cells": [
  {
   "cell_type": "code",
   "execution_count": null,
   "metadata": {},
   "outputs": [],
   "source": []
  },
  {
   "cell_type": "code",
   "execution_count": 1,
   "metadata": {},
   "outputs": [
    {
     "data": {
      "text/plain": [
       "array([15.17295, 27.10676, 14.25151, 21.4209 , 21.53234, 12.06166,\n",
       "       29.19098, 25.1648 , 18.68187, 21.77216, 24.19833, 17.00639,\n",
       "       19.49924, 20.63097, 50.7796 , 19.1856 , 24.56325, 21.90366,\n",
       "       17.00521, 30.89624, 20.48305, 20.99317, 37.41042, 31.95548,\n",
       "       32.90045, 16.4695 , 21.3746 , 30.85191, 21.37554, 28.24616,\n",
       "       17.36416, 24.51992, 19.57655, 22.70747,  9.15983, 24.25134,\n",
       "       23.49183, 20.77498, 22.9331 ,  8.23666, 16.76963, 22.6302 ,\n",
       "       23.31139, 19.51398, 21.96274, 10.2782 , 43.97987, 23.46694,\n",
       "       35.72925, 12.91911, 12.85413, 46.69121, 13.74369, 20.15501,\n",
       "       17.3739 , 19.8967 , 19.30489, 22.1017 , 13.07535, 15.4705 ,\n",
       "       12.03548, 27.94398, 23.53216, 24.1192 , 14.04252, 14.16321,\n",
       "       34.0509 ,  9.25549, 18.87951, 21.27889, 27.34409, 21.04154,\n",
       "       16.9098 ,  9.02   , 39.75725, 23.06136, 25.30359, 24.62207,\n",
       "       10.7795 , 30.39338, 21.11305, 21.36691, 20.27454, 19.02715,\n",
       "       15.84107, 36.25018, 26.71733,  9.93351, 21.99843, 16.18773,\n",
       "       21.08061, 20.04629, 17.83216,  7.33506, 20.69658, 23.53065,\n",
       "       47.04886, 19.22644, 36.15147, 23.02727, 22.58114, 20.83805,\n",
       "       21.23766, 26.59649, 12.03615, 24.77499, 20.47713, 44.94951,\n",
       "       22.8853 , 11.55608, 21.79173, 17.3621 , 17.72242, 18.76382,\n",
       "       42.84593, 17.45079, 21.24762, 25.84816, 20.85957, 17.04702,\n",
       "       13.17836, 33.87772, 21.09389, 21.59895, 21.71231, 20.90783,\n",
       "       15.58525])"
      ]
     },
     "execution_count": 1,
     "metadata": {},
     "output_type": "execute_result"
    }
   ],
   "source": [
    "import numpy as np\n",
    "\n",
    "data=np.genfromtxt('training_boston_x_y_train.csv',delimiter=',')\n",
    "x_train=data[:,0:13]\n",
    "y_train=data[:,13]\n",
    "\n",
    "\n",
    "data1=np.genfromtxt('test_boston_x_test.csv',delimiter=',')\n",
    "x_test=data1[:,0:13]\n",
    "\n",
    "from sklearn import ensemble\n",
    "algo=ensemble.GradientBoostingRegressor(learning_rate=0.16,n_estimators=25000)\n",
    "algo.fit(x_train,y_train)\n",
    "\n",
    "y_pred=algo.predict(x_test)\n",
    "\n",
    "y_t_pred=algo.predict(x_train)\n",
    "y_test_pred=pred=np.around(y_pred,decimals=5)\n",
    "np.savetxt(\"y_test_boston_pred.csv\",y_pred)\n",
    "\n",
    "y_test_pred"
   ]
  }
 ],
 "metadata": {
  "kernelspec": {
   "display_name": "Python 3",
   "language": "python",
   "name": "python3"
  },
  "language_info": {
   "codemirror_mode": {
    "name": "ipython",
    "version": 3
   },
   "file_extension": ".py",
   "mimetype": "text/x-python",
   "name": "python",
   "nbconvert_exporter": "python",
   "pygments_lexer": "ipython3",
   "version": "3.6.5"
  }
 },
 "nbformat": 4,
 "nbformat_minor": 2
}
