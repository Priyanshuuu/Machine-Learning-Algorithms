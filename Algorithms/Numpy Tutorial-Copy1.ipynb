{
 "cells": [
  {
   "cell_type": "markdown",
   "metadata": {},
   "source": [
    "<img src='https://upload.wikimedia.org/wikipedia/commons/thumb/1/1a/NumPy_logo.svg/1200px-NumPy_logo.svg.png' height='1000' width='500'>"
   ]
  },
  {
   "cell_type": "code",
   "execution_count": 5,
   "metadata": {},
   "outputs": [
    {
     "name": "stdout",
     "output_type": "stream",
     "text": [
      "2800\n",
      "400\n"
     ]
    }
   ],
   "source": [
    "import numpy as np\n",
    "import time\n",
    "import sys\n",
    "\n",
    "a = range(100)\n",
    "print(sys.getsizeof(10)*len(a))\n",
    "\n",
    "b = np.arange(100)\n",
    "print(b.size*b.itemsize)"
   ]
  },
  {
   "cell_type": "code",
   "execution_count": 7,
   "metadata": {},
   "outputs": [
    {
     "name": "stdout",
     "output_type": "stream",
     "text": [
      "294.7399616241455\n",
      "99.93386268615723\n"
     ]
    }
   ],
   "source": [
    "import numpy as np\n",
    "import time\n",
    "import sys\n",
    "\n",
    "size = 1000000\n",
    "\n",
    "A1 = range(size)\n",
    "A2 = range(size)\n",
    "\n",
    "B1 = np.arange(size)\n",
    "B2 = np.arange(size)\n",
    "\n",
    "#For list\n",
    "start = time.time()\n",
    "result = [(x,y) for x,y in zip(A1,A2)]\n",
    "print((time.time()-start)*1000)\n",
    "\n",
    "#For NumPy Arrays\n",
    "start = time.time()\n",
    "result = B1 + B2\n",
    "print((time.time()-start)*1000)"
   ]
  },
  {
   "cell_type": "markdown",
   "metadata": {},
   "source": [
    "## 1. Array Attributes"
   ]
  },
  {
   "cell_type": "code",
   "execution_count": 4,
   "metadata": {},
   "outputs": [
    {
     "name": "stdout",
     "output_type": "stream",
     "text": [
      "(2, 3)\n"
     ]
    }
   ],
   "source": [
    "import numpy as np\n",
    "a = np.array([[1,2,3],[4,5,6]])\n",
    "print(a.shape)"
   ]
  },
  {
   "cell_type": "code",
   "execution_count": 6,
   "metadata": {},
   "outputs": [
    {
     "name": "stdout",
     "output_type": "stream",
     "text": [
      "[[1 2]\n",
      " [3 4]\n",
      " [5 6]]\n"
     ]
    }
   ],
   "source": [
    "#this resizes the ndarray\n",
    "a = np.array([[1,2,3],[4,5,6]])\n",
    "a.shape = (3,2)\n",
    "print(a)"
   ]
  },
  {
   "cell_type": "code",
   "execution_count": 9,
   "metadata": {},
   "outputs": [
    {
     "name": "stdout",
     "output_type": "stream",
     "text": [
      "[[1 2]\n",
      " [3 4]\n",
      " [5 6]]\n"
     ]
    }
   ],
   "source": [
    "a = np.array([[1,2,3],[4,5,6]])\n",
    "b = a.reshape(3,2)\n",
    "print(b)"
   ]
  },
  {
   "cell_type": "code",
   "execution_count": 11,
   "metadata": {},
   "outputs": [
    {
     "name": "stdout",
     "output_type": "stream",
     "text": [
      "[ 0  1  2  3  4  5  6  7  8  9 10 11 12 13 14 15 16 17 18 19 20 21 22 23]\n"
     ]
    }
   ],
   "source": [
    "#an array of evenly spaced numbers\n",
    "import numpy as np\n",
    "a = np.arange(24)\n",
    "print(a)"
   ]
  },
  {
   "cell_type": "code",
   "execution_count": 16,
   "metadata": {},
   "outputs": [
    {
     "name": "stdout",
     "output_type": "stream",
     "text": [
      "1\n",
      "3\n"
     ]
    }
   ],
   "source": [
    "#this is one dimensional array\n",
    "import numpy as np\n",
    "a = np.arange(24)\n",
    "print(a.ndim)\n",
    "\n",
    "#now reshape it\n",
    "b = a.reshape(2,4,3)\n",
    "print(b.ndim) #b is having three dimensions"
   ]
  },
  {
   "cell_type": "code",
   "execution_count": 18,
   "metadata": {},
   "outputs": [
    {
     "name": "stdout",
     "output_type": "stream",
     "text": [
      "1\n"
     ]
    }
   ],
   "source": [
    "#dtypeof array is int8 (1 byte)\n",
    "import numpy as np\n",
    "x = np.array([1,2,3,4,5], dtype=np.int8)\n",
    "print(x.itemsize)"
   ]
  },
  {
   "cell_type": "code",
   "execution_count": 19,
   "metadata": {},
   "outputs": [
    {
     "name": "stdout",
     "output_type": "stream",
     "text": [
      "4\n"
     ]
    }
   ],
   "source": [
    "#dtype of array is now float32 (4 bytes)\n",
    "import numpy as np\n",
    "x = np.array([1,2,3,4,5], dtype=np.float32)\n",
    "print(x.itemsize)"
   ]
  },
  {
   "cell_type": "markdown",
   "metadata": {},
   "source": [
    "## 2. Indexing  & Slicing"
   ]
  },
  {
   "cell_type": "code",
   "execution_count": 21,
   "metadata": {},
   "outputs": [
    {
     "name": "stdout",
     "output_type": "stream",
     "text": [
      "[2 4 6]\n"
     ]
    }
   ],
   "source": [
    "import numpy as np \n",
    "a = np.arange(10) \n",
    "s = slice(2,7,2) \n",
    "print(a[s])"
   ]
  },
  {
   "cell_type": "code",
   "execution_count": 24,
   "metadata": {},
   "outputs": [
    {
     "name": "stdout",
     "output_type": "stream",
     "text": [
      "[2 4 6]\n"
     ]
    }
   ],
   "source": [
    "import numpy as np \n",
    "a = np.arange(10) \n",
    "b = a[2:7:2] \n",
    "print(b)"
   ]
  },
  {
   "cell_type": "code",
   "execution_count": 28,
   "metadata": {},
   "outputs": [
    {
     "name": "stdout",
     "output_type": "stream",
     "text": [
      "[5 6 7 8 9]\n"
     ]
    }
   ],
   "source": [
    "# slice items starting from index \n",
    "import numpy as np \n",
    "a = np.arange(10) \n",
    "print(a[5:])"
   ]
  },
  {
   "cell_type": "code",
   "execution_count": 30,
   "metadata": {},
   "outputs": [
    {
     "name": "stdout",
     "output_type": "stream",
     "text": [
      "[2 3 4]\n"
     ]
    }
   ],
   "source": [
    "# slice items between indexes \n",
    "import numpy as np \n",
    "a = np.arange(10) \n",
    "print(a[2:5])"
   ]
  },
  {
   "cell_type": "code",
   "execution_count": null,
   "metadata": {},
   "outputs": [],
   "source": []
  },
  {
   "cell_type": "markdown",
   "metadata": {},
   "source": [
    "## 3. Iterating over array"
   ]
  },
  {
   "cell_type": "code",
   "execution_count": 35,
   "metadata": {},
   "outputs": [
    {
     "name": "stdout",
     "output_type": "stream",
     "text": [
      "Original array is:\n",
      "[[ 0  5 10 15]\n",
      " [20 25 30 35]\n",
      " [40 45 50 55]]\n",
      "\n",
      "\n",
      "Modified array is:\n",
      "0 5 10 15 20 25 30 35 40 45 50 55 "
     ]
    }
   ],
   "source": [
    "import numpy as np\n",
    "a = np.arange(0,60,5)\n",
    "a = a.reshape(3,4)\n",
    "\n",
    "print('Original array is:')\n",
    "print(a)\n",
    "print('\\n')\n",
    "\n",
    "print('Modified array is:')\n",
    "for x in np.nditer(a):\n",
    "    print(x,end=' ')"
   ]
  },
  {
   "cell_type": "code",
   "execution_count": 36,
   "metadata": {},
   "outputs": [
    {
     "name": "stdout",
     "output_type": "stream",
     "text": [
      "Original array is:\n",
      "[[ 0  5 10 15]\n",
      " [20 25 30 35]\n",
      " [40 45 50 55]]\n",
      "\n",
      "\n",
      "Modified array is:\n",
      "[[  0  10  20  30]\n",
      " [ 40  50  60  70]\n",
      " [ 80  90 100 110]]\n"
     ]
    }
   ],
   "source": [
    "import numpy as np\n",
    "a = np.arange(0,60,5)\n",
    "a = a.reshape(3,4)\n",
    "print('Original array is:')\n",
    "print(a)\n",
    "print('\\n')\n",
    "\n",
    "for x in np.nditer(a, op_flags = ['readwrite']):\n",
    "    x[...] = 2*x\n",
    "print('Modified array is:')\n",
    "print(a)"
   ]
  },
  {
   "cell_type": "markdown",
   "metadata": {},
   "source": [
    "## 4. Array manipulation"
   ]
  },
  {
   "cell_type": "code",
   "execution_count": 42,
   "metadata": {},
   "outputs": [
    {
     "name": "stdout",
     "output_type": "stream",
     "text": [
      "The original array is:\n",
      "[[0 1 2 3]\n",
      " [4 5 6 7]]\n",
      "\n",
      "\n",
      "After applying ravel function:\n",
      "[0 1 2 3 4 5 6 7]\n",
      "\n",
      "\n",
      "The flattened array is:\n",
      "[0 1 2 3 4 5 6 7]\n"
     ]
    }
   ],
   "source": [
    "import numpy as np \n",
    "a = np.arange(8).reshape(2,4) \n",
    "\n",
    "print('The original array is:') \n",
    "print(a) \n",
    "print('\\n')  \n",
    "\n",
    "print('After applying ravel function:') \n",
    "print(a.ravel()) \n",
    "print('\\n')\n",
    "\n",
    "print('The flattened array is:') \n",
    "print(a.flatten()) "
   ]
  },
  {
   "cell_type": "code",
   "execution_count": 47,
   "metadata": {},
   "outputs": [
    {
     "name": "stdout",
     "output_type": "stream",
     "text": [
      "The original array is:\n",
      "[[ 0  1  2  3]\n",
      " [ 4  5  6  7]\n",
      " [ 8  9 10 11]]\n",
      "\n",
      "\n",
      "The transposed array is:\n",
      "[[ 0  4  8]\n",
      " [ 1  5  9]\n",
      " [ 2  6 10]\n",
      " [ 3  7 11]]\n",
      "\n",
      "\n",
      "Array after applying the function:\n",
      "[[ 0  4  8]\n",
      " [ 1  5  9]\n",
      " [ 2  6 10]\n",
      " [ 3  7 11]]\n"
     ]
    }
   ],
   "source": [
    "import numpy as np \n",
    "a = np.arange(12).reshape(3,4) \n",
    "\n",
    "print('The original array is:') \n",
    "print(a)  \n",
    "print('\\n') \n",
    "\n",
    "print('The transposed array is:') \n",
    "print(np.transpose(a))\n",
    "print('\\n')\n",
    "\n",
    "print('Array after applying the function:') \n",
    "print(a.T)"
   ]
  },
  {
   "cell_type": "code",
   "execution_count": 51,
   "metadata": {},
   "outputs": [
    {
     "name": "stdout",
     "output_type": "stream",
     "text": [
      "First array:\n",
      "[[1 2]\n",
      " [3 4]]\n",
      "\n",
      "\n",
      "Second array:\n",
      "[[5 6]\n",
      " [7 8]]\n",
      "\n",
      "\n",
      "Joining the two arrays along axis 0:\n",
      "[[1 2]\n",
      " [3 4]\n",
      " [5 6]\n",
      " [7 8]]\n",
      "\n",
      "\n",
      "Stack the two arrays along axis 0:\n",
      "[[[1 2]\n",
      "  [3 4]]\n",
      "\n",
      " [[5 6]\n",
      "  [7 8]]]\n"
     ]
    }
   ],
   "source": [
    "import numpy as np \n",
    "a = np.array([[1,2],[3,4]]) \n",
    "\n",
    "print('First array:') \n",
    "print(a) \n",
    "print('\\n')  \n",
    "b = np.array([[5,6],[7,8]]) \n",
    "\n",
    "print('Second array:') \n",
    "print(b) \n",
    "print('\\n')  \n",
    "# both the arrays are of same dimensions \n",
    "\n",
    "print('Joining the two arrays along axis 0:') \n",
    "print(np.concatenate((a,b))) \n",
    "print('\\n')\n",
    "\n",
    "print('Stack the two arrays along axis 0:') \n",
    "print(np.stack((a,b),0)) "
   ]
  },
  {
   "cell_type": "code",
   "execution_count": 75,
   "metadata": {},
   "outputs": [
    {
     "name": "stdout",
     "output_type": "stream",
     "text": [
      "First array:\n",
      "[[1 2 3]\n",
      " [4 5 6]]\n",
      "\n",
      "\n",
      "Append elements to array:\n",
      "[1 2 3 4 5 6 7 8 9]\n",
      "\n",
      "\n",
      "Insert elements to array:\n",
      "[1 2 3 4 5 6 7 8 9]\n",
      "\n",
      "\n",
      "Delete an elements in array:\n",
      "[1 2 3 4 5]\n"
     ]
    }
   ],
   "source": [
    "import numpy as np \n",
    "a = np.array([[1,2,3],[4,5,6]]) \n",
    "\n",
    "print('First array:') \n",
    "print(a) \n",
    "print('\\n')  \n",
    "\n",
    "print('Append elements to array:') \n",
    "print(np.append(a, [7,8,9])) \n",
    "print('\\n') \n",
    "\n",
    "print('Insert elements to array:') \n",
    "print(np.insert(a,6,[7,8,9]))\n",
    "print('\\n')\n",
    "\n",
    "print('Delete an elements in array:') \n",
    "print(np.delete(a,5))"
   ]
  },
  {
   "cell_type": "code",
   "execution_count": null,
   "metadata": {},
   "outputs": [],
   "source": []
  },
  {
   "cell_type": "markdown",
   "metadata": {},
   "source": [
    "## 5. Binary operators"
   ]
  },
  {
   "cell_type": "code",
   "execution_count": 77,
   "metadata": {},
   "outputs": [
    {
     "name": "stdout",
     "output_type": "stream",
     "text": [
      "Binary equivalents of 13 and 17:\n",
      "0b1101 0b10001\n",
      "\n",
      "\n",
      "Bitwise AND of 13 and 17:\n",
      "1\n",
      "\n",
      "\n",
      "Bitwise OR of 13 and 17:\n",
      "29\n",
      "\n",
      "\n",
      "Invert of 13 where dtype of ndarray is uint8:\n",
      "[242]\n"
     ]
    }
   ],
   "source": [
    "import numpy as np \n",
    "print('Binary equivalents of 13 and 17:')  \n",
    "a,b = 13,17 \n",
    "print(bin(a), bin(b)) \n",
    "print('\\n')  \n",
    "\n",
    "print('Bitwise AND of 13 and 17:')  \n",
    "print(np.bitwise_and(13, 17))\n",
    "print('\\n')\n",
    "\n",
    "print('Bitwise OR of 13 and 17:')  \n",
    "print(np.bitwise_or(13, 17))\n",
    "print('\\n')\n",
    "\n",
    "\n",
    "print('Invert of 13 where dtype of ndarray is uint8:') \n",
    "print(np.invert(np.array([13], dtype = np.uint8)))"
   ]
  },
  {
   "cell_type": "markdown",
   "metadata": {},
   "source": [
    "## 6. Statistical Functions"
   ]
  },
  {
   "cell_type": "code",
   "execution_count": null,
   "metadata": {},
   "outputs": [],
   "source": []
  },
  {
   "cell_type": "markdown",
   "metadata": {},
   "source": [
    "## 7. Sorting & Searching "
   ]
  },
  {
   "cell_type": "code",
   "execution_count": null,
   "metadata": {},
   "outputs": [],
   "source": []
  },
  {
   "cell_type": "markdown",
   "metadata": {},
   "source": [
    "## 8. Counting funtions"
   ]
  },
  {
   "cell_type": "code",
   "execution_count": null,
   "metadata": {},
   "outputs": [],
   "source": []
  }
 ],
 "metadata": {
  "kernelspec": {
   "display_name": "Python 3",
   "language": "python",
   "name": "python3"
  },
  "language_info": {
   "codemirror_mode": {
    "name": "ipython",
    "version": 3
   },
   "file_extension": ".py",
   "mimetype": "text/x-python",
   "name": "python",
   "nbconvert_exporter": "python",
   "pygments_lexer": "ipython3",
   "version": "3.5.6"
  }
 },
 "nbformat": 4,
 "nbformat_minor": 2
}
