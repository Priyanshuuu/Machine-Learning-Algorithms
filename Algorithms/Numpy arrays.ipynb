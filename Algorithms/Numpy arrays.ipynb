{
 "cells": [
  {
   "cell_type": "code",
   "execution_count": 30,
   "metadata": {},
   "outputs": [
    {
     "name": "stdout",
     "output_type": "stream",
     "text": [
      "[[4 5]]\n"
     ]
    }
   ],
   "source": [
    "import numpy as np\n",
    "\n",
    "#print(np.arange(10))\n",
    "\n",
    "a = np.array([0, 1, 2, 3])\n",
    "#print(a.shape)                #to get the size of the array\n",
    "\n",
    "#l=[int(x) for x in input().strip().split(\" \")]\n",
    "#print(np.array(l))\n",
    "\n",
    "a=np.zeros(10,int)          #zeros is a function to get all zeros, and we can change the data type\n",
    "#print(a)\n",
    "a.dtype                     #to get the data type of numpy array\n",
    "\n",
    "c=np.zeros((2,3,4), int)           #multi-dimensional array\n",
    "\n",
    "c[0]='1'                      #to insert a elemnt to whole column and row      #(d[0:1,:])\n",
    "#print(b)                                                                      #d[1:3,2:3])\n",
    "                                                                               #d[2:3,0:2]) rev\n",
    "                                                                               #d[1:2,0:2]) rev\n",
    "c[0][2]='2'                     #to insert a elemnt to whole column \n",
    "#print(b)\n",
    "\n",
    "c[0][2][3]='3'                  #to insert a elemnt to a particular place\n",
    "#print(c)\n",
    "\n",
    "d=np.array([[1,2,3],[4,5,6],[7,8,9]])    #slicing\n",
    "print(d[1:2,0:2])"
   ]
  },
  {
   "cell_type": "code",
   "execution_count": 18,
   "metadata": {},
   "outputs": [
    {
     "data": {
      "text/plain": [
       "3.1622776601683795"
      ]
     },
     "execution_count": 18,
     "metadata": {},
     "output_type": "execute_result"
    }
   ],
   "source": [
    "import math as m\n",
    "m.sqrt(10)\n"
   ]
  },
  {
   "cell_type": "code",
   "execution_count": 31,
   "metadata": {},
   "outputs": [
    {
     "name": "stdout",
     "output_type": "stream",
     "text": [
      "[5 7 9]\n",
      "[-3 -3 -3]\n",
      "[ 4 10 18]\n",
      "[  1  32 729]\n",
      "[3 4 5]\n",
      "[6 7 8]\n",
      "[-1  0  1]\n",
      "[2 4 6]\n"
     ]
    }
   ],
   "source": [
    "# numpy operations\n",
    "a=np.array([1,2,3])\n",
    "b=np.array([4,5,6])\n",
    "\n",
    "print(a+b)\n",
    "print(a-b)\n",
    "print(a*b)\n",
    "print(a**b)\n",
    "print(a+2)\n",
    "print(2+b)\n",
    "print(a-2)\n",
    "print(a*2)\n",
    " \n",
    "    "
   ]
  },
  {
   "cell_type": "code",
   "execution_count": 44,
   "metadata": {},
   "outputs": [
    {
     "data": {
      "text/plain": [
       "2.25"
      ]
     },
     "execution_count": 44,
     "metadata": {},
     "output_type": "execute_result"
    }
   ],
   "source": [
    "# functions of math operations\n",
    "\n",
    "a=np.array([5,1,2,1])\n",
    "a.mean()\n",
    "#a.sum()"
   ]
  },
  {
   "cell_type": "code",
   "execution_count": 37,
   "metadata": {},
   "outputs": [
    {
     "name": "stdout",
     "output_type": "stream",
     "text": [
      "2.0\n"
     ]
    }
   ],
   "source": [
    "a=np.array([1,2,3])\n",
    "b=np.array([4,5,6])\n",
    "d=((a-b)**2).sum()\n",
    "m.sqrt(d)\n",
    "\n",
    "c=((a-a.mean())**2).sum()\n",
    "print(c)"
   ]
  },
  {
   "cell_type": "code",
   "execution_count": 36,
   "metadata": {},
   "outputs": [
    {
     "name": "stdout",
     "output_type": "stream",
     "text": [
      "2\n"
     ]
    }
   ],
   "source": [
    "a=np.array([0,1,2,3])\n",
    "b=np.array([2,3,4,5])\n",
    "a+a\n",
    "for i in range(2,1,-1):\n",
    "    print(a[i])\n",
    "# a.mat() also exist and they are strictly 2-d arrays"
   ]
  },
  {
   "cell_type": "code",
   "execution_count": null,
   "metadata": {},
   "outputs": [],
   "source": [
    "np.array(int(x) for x in input().strip().split(\" \"))"
   ]
  },
  {
   "cell_type": "code",
   "execution_count": null,
   "metadata": {},
   "outputs": [],
   "source": [
    "# to print spiral of arrays\n",
    "\n",
    "import numpy as np\n",
    "l=[int(i) for i in input().strip().split(\" \")]\n",
    "n=l[0]\n",
    "m=l[1]\n",
    "l.pop(0)\n",
    "l.pop(0)\n",
    "x=np.array(l)\n",
    "x=x.reshape(n,m)\n",
    "k,l=0,0\n",
    "while(k<=n and l<=m):\n",
    "    if (l<m and k<n):\n",
    "        for i in range(l,m):\n",
    "            print(x[k][i],end=' ')\n",
    "    k=k+1\n",
    "    if (l<m and k<n):\n",
    "        for i in range(k,n):\n",
    "            print(x[i][m-1],end=' ')\n",
    "    m=m-1\n",
    "    if (l<m and k<n):\n",
    "        for i in range(m,l,-1):\n",
    "            print(x[n-1][i-1],end=' ')\n",
    "    n=n-1\n",
    "    if(l<m and k<n):\n",
    "        for i in range(n,k,-1):\n",
    "            print(x[i-1][l],end=' ')\n",
    "    l=l+1  "
   ]
  },
  {
   "cell_type": "code",
   "execution_count": 4,
   "metadata": {},
   "outputs": [
    {
     "name": "stdout",
     "output_type": "stream",
     "text": [
      "7\n",
      "-7 1 5 2 -4 3 0\n",
      "3\n"
     ]
    }
   ],
   "source": [
    "#to get equilibrium index in an array\n",
    "\n",
    "x`\n",
    "x=np.array(l)\n",
    "sum=x.sum()\n",
    "lsum=0\n",
    "for i in range(n):\n",
    "    sum=sum-x[i]\n",
    "    if(sum==lsum):\n",
    "        print(i)\n",
    "        break\n",
    "    lsum=lsum+x[i]"
   ]
  },
  {
   "cell_type": "code",
   "execution_count": 3,
   "metadata": {},
   "outputs": [
    {
     "name": "stdout",
     "output_type": "stream",
     "text": [
      "EWF\n"
     ]
    },
    {
     "ename": "TypeError",
     "evalue": "'str' object is not callable",
     "output_type": "error",
     "traceback": [
      "\u001b[1;31m---------------------------------------------------------------------------\u001b[0m",
      "\u001b[1;31mTypeError\u001b[0m                                 Traceback (most recent call last)",
      "\u001b[1;32m<ipython-input-3-3b9e1987ce56>\u001b[0m in \u001b[0;36m<module>\u001b[1;34m()\u001b[0m\n\u001b[0;32m      1\u001b[0m \u001b[0mstr\u001b[0m\u001b[1;33m=\u001b[0m\u001b[1;33m(\u001b[0m\u001b[0minput\u001b[0m\u001b[1;33m(\u001b[0m\u001b[1;33m)\u001b[0m\u001b[1;33m)\u001b[0m\u001b[1;33m\u001b[0m\u001b[0m\n\u001b[0;32m      2\u001b[0m \u001b[1;33m\u001b[0m\u001b[0m\n\u001b[1;32m----> 3\u001b[1;33m \u001b[0mprint\u001b[0m\u001b[1;33m(\u001b[0m\u001b[0mstr\u001b[0m\u001b[1;33m(\u001b[0m\u001b[1;36m0\u001b[0m\u001b[1;33m)\u001b[0m\u001b[1;33m)\u001b[0m\u001b[1;33m\u001b[0m\u001b[0m\n\u001b[0m",
      "\u001b[1;31mTypeError\u001b[0m: 'str' object is not callable"
     ]
    }
   ],
   "source": [
    "str=(input())\n",
    "\n",
    "print(str(0])"
   ]
  }
 ],
 "metadata": {
  "kernelspec": {
   "display_name": "Python 3",
   "language": "python",
   "name": "python3"
  },
  "language_info": {
   "codemirror_mode": {
    "name": "ipython",
    "version": 3
   },
   "file_extension": ".py",
   "mimetype": "text/x-python",
   "name": "python",
   "nbconvert_exporter": "python",
   "pygments_lexer": "ipython3",
   "version": "3.5.6"
  }
 },
 "nbformat": 4,
 "nbformat_minor": 2
}
