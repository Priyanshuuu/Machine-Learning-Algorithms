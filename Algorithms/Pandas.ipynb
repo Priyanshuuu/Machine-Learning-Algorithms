{
 "cells": [
  {
   "cell_type": "code",
   "execution_count": 2,
   "metadata": {},
   "outputs": [
    {
     "data": {
      "text/html": [
       "<div>\n",
       "<style scoped>\n",
       "    .dataframe tbody tr th:only-of-type {\n",
       "        vertical-align: middle;\n",
       "    }\n",
       "\n",
       "    .dataframe tbody tr th {\n",
       "        vertical-align: top;\n",
       "    }\n",
       "\n",
       "    .dataframe thead th {\n",
       "        text-align: right;\n",
       "    }\n",
       "</style>\n",
       "<table border=\"1\" class=\"dataframe\">\n",
       "  <thead>\n",
       "    <tr style=\"text-align: right;\">\n",
       "      <th></th>\n",
       "      <th>Unnamed: 0</th>\n",
       "      <th>Class</th>\n",
       "      <th>Sex</th>\n",
       "      <th>Age</th>\n",
       "      <th>Survived</th>\n",
       "      <th>Freq</th>\n",
       "    </tr>\n",
       "  </thead>\n",
       "  <tbody>\n",
       "    <tr>\n",
       "      <th>27</th>\n",
       "      <td>28</td>\n",
       "      <td>Crew</td>\n",
       "      <td>Male</td>\n",
       "      <td>Adult</td>\n",
       "      <td>Yes</td>\n",
       "      <td>192</td>\n",
       "    </tr>\n",
       "    <tr>\n",
       "      <th>28</th>\n",
       "      <td>29</td>\n",
       "      <td>1st</td>\n",
       "      <td>Female</td>\n",
       "      <td>Adult</td>\n",
       "      <td>Yes</td>\n",
       "      <td>140</td>\n",
       "    </tr>\n",
       "    <tr>\n",
       "      <th>29</th>\n",
       "      <td>30</td>\n",
       "      <td>2nd</td>\n",
       "      <td>Female</td>\n",
       "      <td>Adult</td>\n",
       "      <td>Yes</td>\n",
       "      <td>80</td>\n",
       "    </tr>\n",
       "    <tr>\n",
       "      <th>30</th>\n",
       "      <td>31</td>\n",
       "      <td>3rd</td>\n",
       "      <td>Female</td>\n",
       "      <td>Adult</td>\n",
       "      <td>Yes</td>\n",
       "      <td>76</td>\n",
       "    </tr>\n",
       "    <tr>\n",
       "      <th>31</th>\n",
       "      <td>32</td>\n",
       "      <td>Crew</td>\n",
       "      <td>Female</td>\n",
       "      <td>Adult</td>\n",
       "      <td>Yes</td>\n",
       "      <td>20</td>\n",
       "    </tr>\n",
       "  </tbody>\n",
       "</table>\n",
       "</div>"
      ],
      "text/plain": [
       "    Unnamed: 0 Class     Sex    Age Survived  Freq\n",
       "27          28  Crew    Male  Adult      Yes   192\n",
       "28          29   1st  Female  Adult      Yes   140\n",
       "29          30   2nd  Female  Adult      Yes    80\n",
       "30          31   3rd  Female  Adult      Yes    76\n",
       "31          32  Crew  Female  Adult      Yes    20"
      ]
     },
     "execution_count": 2,
     "metadata": {},
     "output_type": "execute_result"
    }
   ],
   "source": [
    "import pandas as pd\n",
    "import numpy as np\n",
    "\n",
    "df = pd.read_csv(\"Titanic1.csv\")\n",
    "df.head(10)                         # to check the starting rows\n",
    "df.tail(5)                          # to check the last rows"
   ]
  },
  {
   "cell_type": "code",
   "execution_count": 7,
   "metadata": {},
   "outputs": [
    {
     "name": "stdout",
     "output_type": "stream",
     "text": [
      "cool\n"
     ]
    }
   ],
   "source": [
    "list_of_predifined_queries=['a','b','c']\n",
    "com='d'\n",
    "if com not in list_of_predifined_queries:\n",
    "    print('cool')\n",
    "else:\n",
    "    print('hot')"
   ]
  },
  {
   "cell_type": "code",
   "execution_count": null,
   "metadata": {},
   "outputs": [],
   "source": [
    "print(df.dtypes)      # to check datatypes of all feuturess\n",
    "print(df.shape)       # to check no. of rows and columns"
   ]
  },
  {
   "cell_type": "code",
   "execution_count": null,
   "metadata": {},
   "outputs": [],
   "source": [
    "x=df.copy()      # to create a new file with same data \n",
    "x.head(3)     \n"
   ]
  },
  {
   "cell_type": "code",
   "execution_count": null,
   "metadata": {},
   "outputs": [],
   "source": [
    "print(x.columns)     #to check names of columns\n"
   ]
  },
  {
   "cell_type": "code",
   "execution_count": null,
   "metadata": {},
   "outputs": [],
   "source": [
    "x.columns=['numbers','standard','m/f','age','lives','times']     #to change the names of coloumns head\n",
    "x.head()"
   ]
  },
  {
   "cell_type": "code",
   "execution_count": null,
   "metadata": {},
   "outputs": [],
   "source": [
    "x.describe()          #tells some description and calculations"
   ]
  },
  {
   "cell_type": "code",
   "execution_count": null,
   "metadata": {},
   "outputs": [],
   "source": [
    "x.age                #gives to acces a particular coloumn\n",
    "x['age']             # does same as (x.age)\n",
    "x.isnull().sum()     # tells us about the null values in data\n",
    "x.iloc[1:4,2:4]      # to acces particular data\n",
    "x.isnull().sum()"
   ]
  },
  {
   "cell_type": "code",
   "execution_count": null,
   "metadata": {},
   "outputs": [],
   "source": [
    "x.head()\n",
    "#a=x.drop(1)      #drop remove a element whose label is (1) on a copy\n",
    "#print(a)\n",
    "#x.drop(1,True)\n",
    "#x.head()"
   ]
  },
  {
   "cell_type": "code",
   "execution_count": null,
   "metadata": {},
   "outputs": [],
   "source": [
    "x.index[10],x.index[4]"
   ]
  },
  {
   "cell_type": "code",
   "execution_count": null,
   "metadata": {},
   "outputs": [],
   "source": [
    "#x.drop(10)                           # drop by label\n",
    "x.drop(x.index[7],inplace=True)      # drop by position\n",
    "x.drop(x.index[[0,1]],inplace=True)   # to remove 0 and 1 positions\n",
    "x.head()"
   ]
  },
  {
   "cell_type": "code",
   "execution_count": null,
   "metadata": {},
   "outputs": [],
   "source": [
    "x[x.Freq>50]               #to acces data with a condition\n",
    "x[x.Freq>50].describe()    #access description for a particular conditinal data"
   ]
  },
  {
   "cell_type": "code",
   "execution_count": null,
   "metadata": {},
   "outputs": [],
   "source": [
    "# To add a row\n",
    "print(x.head())\n",
    "print(x.iloc[0])    # to loacte position wise \n",
    "print(x.loc[2])     #to locate label wise\n"
   ]
  },
  {
   "cell_type": "code",
   "execution_count": null,
   "metadata": {},
   "outputs": [],
   "source": [
    "# To add a row\n",
    "\n",
    "x.loc[0]=[2,'crew','Female','adult','yes',10]       #add by label(at tail)\n",
    "x.iloc[0]=[2,'crew','Female','adult','yes',10]      #add by position(at head)\n",
    "print(x.head())\n",
    "print(x.tail())\n"
   ]
  },
  {
   "cell_type": "code",
   "execution_count": null,
   "metadata": {},
   "outputs": [],
   "source": [
    "# to alot index \n",
    "\n",
    "x.reset_index()\n",
    "x.describe()\n",
    "x.reset_index(drop=True, inplace=True)      #will not create a copy \n",
    "x.index"
   ]
  },
  {
   "cell_type": "code",
   "execution_count": null,
   "metadata": {},
   "outputs": [],
   "source": [
    "#to drop a cloumn\n",
    "\n",
    "x.drop('Sex', axis=1)   # axis = 1 gives acces to columns\n",
    "\n",
    "del x['Age']\n",
    "x.describe()"
   ]
  },
  {
   "cell_type": "code",
   "execution_count": null,
   "metadata": {},
   "outputs": [],
   "source": [
    "x.describe()\n",
    "x.head()"
   ]
  },
  {
   "cell_type": "code",
   "execution_count": null,
   "metadata": {},
   "outputs": [],
   "source": [
    "# to add a column\n",
    "\n",
    "x['Army']=10+x['Freq']\n",
    "x.head(7)\n",
    "\n"
   ]
  },
  {
   "cell_type": "code",
   "execution_count": null,
   "metadata": {},
   "outputs": [],
   "source": [
    "# to add NAN values\n",
    "\n",
    "x.iloc[2:4,4:6]=np.nan      #using numpy\n",
    "x.head(7)"
   ]
  },
  {
   "cell_type": "code",
   "execution_count": null,
   "metadata": {},
   "outputs": [],
   "source": [
    "# to fill NAN entries\n",
    "\n",
    "x.Class.fillna(x.Army.mean(), inplace=True)\n",
    "x.Sex.fillna(x.Freq.mean(), inplace=True)\n",
    "x.Army.fillna(x.Army.mean(), inplace=True)\n",
    "\n",
    "x.iloc[4:6,4:6]=np.nan\n",
    "\n",
    "a=x[x.Sex=='Female',]\n",
    "x.Freq.fillna(a.Freq.mean())\n",
    "x.Army.fillna(a.Army.mean())\n",
    "x.head(7)"
   ]
  },
  {
   "cell_type": "code",
   "execution_count": null,
   "metadata": {},
   "outputs": [],
   "source": [
    "x['catergotry']='rich'\n",
    "x.Freq.fillna(x.Army.mean(),inplace=True)\n",
    "x.Army.fillna(x.Freq.mean(),inplace=True)\n",
    "x.iloc[2:10,6]='middle'\n",
    "x.iloc[12:20,6]='poor'\n",
    "x.head()\n",
    "def f(s):\n",
    "    if s=='rich':\n",
    "        return 3\n",
    "    elif s=='midle':\n",
    "        return 2\n",
    "    else :\n",
    "        return 1\n",
    "x['category_no']=x.catergotry.apply(f)\n",
    "x.head()\n",
    "\n"
   ]
  }
 ],
 "metadata": {
  "kernelspec": {
   "display_name": "Python 3",
   "language": "python",
   "name": "python3"
  },
  "language_info": {
   "codemirror_mode": {
    "name": "ipython",
    "version": 3
   },
   "file_extension": ".py",
   "mimetype": "text/x-python",
   "name": "python",
   "nbconvert_exporter": "python",
   "pygments_lexer": "ipython3",
   "version": "3.5.6"
  }
 },
 "nbformat": 4,
 "nbformat_minor": 2
}
