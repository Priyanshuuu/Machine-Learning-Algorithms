{
 "cells": [
  {
   "cell_type": "code",
   "execution_count": null,
   "metadata": {},
   "outputs": [],
   "source": []
  },
  {
   "cell_type": "code",
   "execution_count": null,
   "metadata": {},
   "outputs": [],
   "source": [
    "if __name__ == '__main__':\n",
    "    n = int(input())\n",
    "    l=[int(i) for i in input().strip().split(\" \")]\n",
    "    x = max(l)\n",
    "    m=0\n",
    "    for i in l:\n",
    "        if i>m and i!=x:\n",
    "            m=i\n",
    "    print(m)\n",
    "\n"
   ]
  },
  {
   "cell_type": "code",
   "execution_count": null,
   "metadata": {},
   "outputs": [],
   "source": [
    "\n",
    "# x = max(l)\n",
    "# m=0\n",
    "# for i in l:\n",
    "#     if i>m and i!=x:\n",
    "#         m=i\n",
    "# print(m)"
   ]
  },
  {
   "cell_type": "code",
   "execution_count": null,
   "metadata": {},
   "outputs": [],
   "source": [
    "if __name__ == '__main__':\n",
    "    n = int(input())\n",
    "    l=[int(i) for i in input().strip().split(\" \")]\n",
    "#     x = max(l)\n",
    "#     m=0\n",
    "#     for i in l:\n",
    "#         if i>m and i!=x:\n",
    "#             m=i\n",
    "#     print(m)\n"
   ]
  },
  {
   "cell_type": "code",
   "execution_count": null,
   "metadata": {},
   "outputs": [],
   "source": [
    "# maxi=max(l)\n",
    "# print(maxi)\n",
    "# for i in range(len(l)):\n",
    "#     if maxi==l[i]:\n",
    "#         l.remove(l[i])\n",
    "# print(l)"
   ]
  },
  {
   "cell_type": "code",
   "execution_count": null,
   "metadata": {},
   "outputs": [],
   "source": [
    "# x=l\n",
    "# maxi=max(l)\n",
    "# for i in range(len(l)-1):\n",
    "#     if l[i]==maxi:\n",
    "#         x.remove(maxi)\n",
    "#         print(x)\n",
    "#     else:\n",
    "#         continue\n",
    "    \n",
    "    \n",
    "# print(max(x))\n",
    "x=l\n",
    "maxi=max(l)\n",
    "v=0\n",
    "for i in range(len(l)):\n",
    "    if maxi==l[i]:\n",
    "        v=v+1\n",
    "for i in range(v):\n",
    "    x.remove(maxi)\n",
    "print(max(x))\n"
   ]
  },
  {
   "cell_type": "code",
   "execution_count": null,
   "metadata": {},
   "outputs": [],
   "source": [
    "if __name__ == '__main__':\n",
    "    l=[]\n",
    "    for _ in range(int(input())):\n",
    "        x=[]\n",
    "        name = input()\n",
    "        score = float(input())\n",
    "        x.append(name)\n",
    "        x.append(score)\n",
    "        l.append(x)\n",
    "    #print(l)\n",
    "    \n"
   ]
  },
  {
   "cell_type": "code",
   "execution_count": null,
   "metadata": {},
   "outputs": [],
   "source": [
    "l=[['aaj', 25.6], ['biran', 25.6],['karaj', 26.6], ['ran', 26]]\n"
   ]
  },
  {
   "cell_type": "code",
   "execution_count": null,
   "metadata": {},
   "outputs": [],
   "source": [
    "# x=[]\n",
    "# x.append(l[2])\n"
   ]
  },
  {
   "cell_type": "code",
   "execution_count": null,
   "metadata": {},
   "outputs": [],
   "source": [
    "sorted(l)\n",
    "print(l)"
   ]
  },
  {
   "cell_type": "code",
   "execution_count": null,
   "metadata": {},
   "outputs": [],
   "source": [
    "x=[]\n",
    "for m in range(2):\n",
    "    mini=l[0][1]\n",
    "    j=0\n",
    "    for i in range(len(l)):\n",
    "        if float(l[i][1])<mini:\n",
    "            mini=l[i][1]\n",
    "            j=i\n",
    "        else:\n",
    "            pass\n",
    "\n",
    "    x.append(l[j])\n",
    "    l.remove(l[j])\n",
    "\n",
    "nx=sorted(x)\n",
    "for i in range(2):\n",
    "    print(nx[i][0])"
   ]
  },
  {
   "cell_type": "code",
   "execution_count": null,
   "metadata": {},
   "outputs": [],
   "source": [
    "nx=sorted(x)\n",
    "for i in range(2):\n",
    "    print(nx[i][0])"
   ]
  },
  {
   "cell_type": "code",
   "execution_count": null,
   "metadata": {},
   "outputs": [],
   "source": [
    "if __name__ == '__main__':\n",
    "    l=[]\n",
    "    for _ in range(int(input())):\n",
    "        x=[]\n",
    "        name = input()\n",
    "        score = float(input())\n",
    "        x.append(name)\n",
    "        x.append(score)\n",
    "        l.append(x)\n",
    "x=[]\n",
    "\n",
    "mini=l[0][1]\n",
    "j=0\n",
    "for i in range(len(l)):\n",
    "    if float(l[i][1])<mini:\n",
    "        mini=l[i][1]\n",
    "        j=i\n",
    "    else:\n",
    "        pass\n",
    "l.remove(l[j])\n",
    "for m in range(2):\n",
    "    mini=l[0][1]\n",
    "    j=0\n",
    "    for i in range(len(l)):\n",
    "        if float(l[i][1])<mini:\n",
    "            mini=l[i][1]\n",
    "            j=i\n",
    "        else:\n",
    "            pass\n",
    "\n",
    "    x.append(l[j])\n",
    "    l.remove(l[j])\n",
    "\n",
    "nx=sorted(x)\n",
    "for i in range(2):\n",
    "    print(nx[i][0])"
   ]
  },
  {
   "cell_type": "code",
   "execution_count": null,
   "metadata": {},
   "outputs": [],
   "source": []
  },
  {
   "cell_type": "code",
   "execution_count": null,
   "metadata": {},
   "outputs": [],
   "source": [
    "#l=[['Harry', 37.21], ['Berry', 37.21], ['Tina', 37.2], ['Akriti', 41], ['Harsh', 39]]\n",
    "l=[['Prashant',32],['Pallavi',36],['Dheeraj',39],['Shivam',40]]\n",
    "x=sorted(l, key = lambda x: x[1])\n",
    "\n",
    "x.remove(x[0])\n",
    "m=[]\n",
    "m.append(x[0])\n",
    "for i in range(1,len(x)):\n",
    "    mn=x[0][1]\n",
    "    if mn==x[i][1]:\n",
    "        m.append(x[i])\n",
    "    else:\n",
    "        pass\n",
    "m=sorted(m)\n",
    "for i in range(len(m)):\n",
    "     print(m[i][0])"
   ]
  },
  {
   "cell_type": "code",
   "execution_count": null,
   "metadata": {},
   "outputs": [],
   "source": [
    "x = int(input())\n",
    "y = int(input())\n",
    "n = int(input())\n",
    "ar = []\n",
    "p = 0\n",
    "for i in range ( x + 1 ):\n",
    "    for j in range( y + 1):\n",
    "        if i+j != n:\n",
    "            ar.append([])\n",
    "            ar[p] = [ i , j ]\n",
    "            p+=1\n",
    "print(ar) "
   ]
  },
  {
   "cell_type": "code",
   "execution_count": null,
   "metadata": {},
   "outputs": [],
   "source": [
    "x = int(input())\n",
    "y = int(input())\n",
    "z = int(input())\n",
    "\n",
    "n = int(input())\n",
    "print([[ i, j, k] for i in range( x + 1) for j in range( y + 1) for k in range( z+1 ) if ( ( i + j + k ) != n )])"
   ]
  },
  {
   "cell_type": "code",
   "execution_count": null,
   "metadata": {},
   "outputs": [],
   "source": [
    "l=[['Harsh',-20],['Beria',-20],['Varun',-20],['Kakunami',-20],['Vikas',21]]\n",
    "p=[['Harsh',-20],['Beria',-20],['Varun',-20],['Kakunami',-20],['Vikas',21]]\n",
    "kl=l[0][1]\n",
    "# l.remove(l[0])\n",
    "print(kl)\n",
    "for i in range(5):\n",
    "    if l[i][1]==kl:\n",
    "        p.remove(p[0])\n",
    "print(p)\n",
    "# #         newl.remove(l[i][:])\n",
    "# l.remove(['Beria',-20])\n",
    "# print(l)\n",
    "    "
   ]
  },
  {
   "cell_type": "code",
   "execution_count": null,
   "metadata": {},
   "outputs": [],
   "source": [
    "\n",
    "l=[['Harsh',-20],['Beria',-20],['Varun',-20],['Kakunami',-20],['Vikas',21]]\n",
    "x=[]\n",
    "x=sorted(l, key = lambda k: k[1])\n",
    "# print(x)\n",
    "p=x\n",
    "kl=l[0][1]\n",
    "# l.remove(l[0])\n",
    "# print(kl)\n",
    "for i in range(len(x)):\n",
    "    if l[i][1]==kl:\n",
    "        p.remove(p[0])\n",
    "# print(p)\n",
    "# print(nl)\n",
    "# x=nl\n",
    "x=p\n",
    "if len(x)==1:\n",
    "    print(x[0][0])\n",
    "else:\n",
    "    m=[]\n",
    "    m.append(x[0])\n",
    "    print(m)\n",
    "    for i in range(1,len(x)):\n",
    "        mn=x[0][1]\n",
    "        print(mn)\n",
    "        if mn==x[i][1]:\n",
    "            m.append(x[i])\n",
    "        else:\n",
    "            pass\n",
    "    m=sorted(m)\n",
    "    for i in range(len(m)):\n",
    "         print(m[i][0])"
   ]
  },
  {
   "cell_type": "code",
   "execution_count": null,
   "metadata": {},
   "outputs": [],
   "source": [
    "if __name__ == '__main__':\n",
    "    n = int(input())\n",
    "    student_marks = {}\n",
    "    for _ in range(n):\n",
    "        name, *line = input().split()\n",
    "        scores = list(map(float, line))\n",
    "        student_marks[name] = scores\n",
    "    query_name = input()\n",
    "\n"
   ]
  },
  {
   "cell_type": "code",
   "execution_count": null,
   "metadata": {},
   "outputs": [],
   "source": [
    "student_marks[query_name]\n"
   ]
  },
  {
   "cell_type": "code",
   "execution_count": null,
   "metadata": {},
   "outputs": [],
   "source": [
    "print(\"Program to print half pyramid: \")\n",
    "rows = int(input(\"Enter number of rows \"))\n",
    "for i in range (rows,0,-1):\n",
    "    for j in range(1, i + 1):\n",
    "        print(j, end=' ')\n",
    "        if j==i:\n",
    "            if i<rows:\n",
    "                x=rows-i\n",
    "                x=x*2-1\n",
    "                for k in range(0,x):\n",
    "                    print(\"* \", end=\"\") \n",
    "    print(\"\\r\")"
   ]
  },
  {
   "cell_type": "code",
   "execution_count": null,
   "metadata": {},
   "outputs": [],
   "source": [
    "def check(S):\n",
    "    res = all(i < j for i, j in zip(S, S[1:]))\n",
    "    return str(res)\n",
    "\n",
    "def checkbig(s1,s2):\n",
    "    a = check(s1)\n",
    "    b = check(s2)\n",
    "    if a=='False' and b=='True':\n",
    "        print('true')\n",
    "    else:\n",
    "        print('false')\n",
    "        \n",
    "N = int(input())\n",
    "s = []\n",
    "for i in range(N):\n",
    "    s.append(int(input()))\n",
    "    \n",
    "if N%2==0:\n",
    "    s1=s[0:(N/2)]\n",
    "    s2=s[(N/2):N]\n",
    "else:\n",
    "    v=int((N+1)/2)\n",
    "    s1=s[0:v]\n",
    "    s2=s[v:N]\n",
    "    \n",
    "checkbig(s1,s2)"
   ]
  },
  {
   "cell_type": "code",
   "execution_count": null,
   "metadata": {},
   "outputs": [],
   "source": [
    "def findpair(n):\n",
    "    n=a*a + b*b"
   ]
  },
  {
   "cell_type": "code",
   "execution_count": null,
   "metadata": {},
   "outputs": [],
   "source": []
  },
  {
   "cell_type": "code",
   "execution_count": null,
   "metadata": {},
   "outputs": [],
   "source": [
    "import math\n",
    "\n",
    "def is_triple(hypotenuse):\n",
    "     \n",
    "    def solo(hypo):\n",
    "        x=math.sqrt(hypo)\n",
    "        if x%2==0 or x%2==1 :\n",
    "            return 0, int(x)\n",
    "        else:\n",
    "            pass\n",
    "\n",
    "    val = solo(hypotenuse)\n",
    "    print(val)\n",
    "\n",
    "    if hypotenuse>3: \n",
    "        c = hypotenuse**2\n",
    "\n",
    "        for a in range(3, hypotenuse):\n",
    "            b = math.sqrt(c - (a ** 2)) \n",
    "            if b == int(b):\n",
    "                if (a, int(b))==val or (int(b), a)==val:\n",
    "                    return val\n",
    "                else:\n",
    "                    return val, (a, int(b))\n",
    "\n",
    "\n",
    "N=int(input())\n",
    "s=[]\n",
    "for i in range(N):\n",
    "    s.append(int(input()))\n",
    "             \n",
    "for j in s:\n",
    "    print(is_triple(j))   "
   ]
  },
  {
   "cell_type": "code",
   "execution_count": null,
   "metadata": {},
   "outputs": [],
   "source": [
    "N=int(input())\n",
    "s=[]\n",
    "for i in range(N):\n",
    "    s.append(int(input()))\n",
    "             \n",
    "for j in s:\n",
    "    print(is_triple(j))"
   ]
  },
  {
   "cell_type": "code",
   "execution_count": null,
   "metadata": {},
   "outputs": [],
   "source": [
    "math.sqrt(1)"
   ]
  },
  {
   "cell_type": "code",
   "execution_count": null,
   "metadata": {},
   "outputs": [],
   "source": [
    "def solo(hypo):\n",
    "        x=math.sqrt(hypo)\n",
    "        if x%2==1 or x%2==0 :\n",
    "            l=0\n",
    "            print(x)\n",
    "            return l, int(x)\n",
    "        else:\n",
    "            pass\n",
    "print(solo(25))"
   ]
  },
  {
   "cell_type": "code",
   "execution_count": null,
   "metadata": {},
   "outputs": [],
   "source": [
    "x=math.sqrt(25)\n",
    "x%2"
   ]
  },
  {
   "cell_type": "code",
   "execution_count": null,
   "metadata": {},
   "outputs": [],
   "source": [
    "def solo(hypo):\n",
    "    x=math.sqrt(hypo)\n",
    "    if x%2==0:\n",
    "        a=0\n",
    "        return a, int(x)\n",
    "    else:\n",
    "        pass\n",
    "\n",
    "\n"
   ]
  },
  {
   "cell_type": "code",
   "execution_count": null,
   "metadata": {},
   "outputs": [],
   "source": [
    "def cal(num):\n",
    "\tif num > 1: \n",
    "\t\tfor j in range(2, num//2):\n",
    "\t\t\tif (num % j) == 0:\n",
    "\t\t\t\treturn 0\n",
    "\t\t\t\tbreak\n",
    "\t\telse:\n",
    "\t\t\tif num==4:\n",
    "\t\t\t\treturn 0\n",
    "\t\t\telse:\n",
    "\t\t\t\treturn num\n",
    "\t\t\t\n",
    "\telse:\n",
    "\t\treturn 0\n",
    "\t\t\n",
    "def prime(m,n):\n",
    "\ts=[]\n",
    "\tfor i in range(m,n+1,+1):\n",
    "\t\ts.append(cal(i))\t\n",
    "\tfor i in s:\n",
    "\t\tif i==0:\n",
    "\t\t\tpass\n",
    "\t\telse:\n",
    "\t\t\tprint(i,end=' ')\n",
    "\tprint()\t\t\n",
    "\n",
    "\n",
    "N=int(input())\n",
    "l=[]\n",
    "for i in range(N):\n",
    "\tl.append([int(x) for x in input().split(' ')])\n",
    "\n",
    "for i in range(N):\n",
    "\ta=0\n",
    "\ta=l[i]\n",
    "\tprime(a[0], a[1])"
   ]
  },
  {
   "cell_type": "code",
   "execution_count": null,
   "metadata": {},
   "outputs": [],
   "source": [
    "def numpat(n):\n",
    "    num = 1\n",
    "    for i in range(0, n):\n",
    "        num = 1\n",
    "        for j in range(0, i+1):\n",
    "            print(num, end=\"\")\n",
    "            if j==i:\n",
    "                for i in range(n-num):\n",
    "                    print(end=\"*\")\n",
    "            num = num + 1\n",
    "        print(\"\\r\") \n",
    "n=int(input())\n",
    "numpat(n) \n"
   ]
  },
  {
   "cell_type": "code",
   "execution_count": null,
   "metadata": {},
   "outputs": [],
   "source": [
    "num = int(input())\n",
    "if num > 1:\n",
    "    for j in range(2, num):\n",
    "        if (num % j) == 0:\n",
    "            print(\"Not Prime\")\n",
    "            break\n",
    "        else:\n",
    "            print(\"Prime\")\n",
    "else:\n",
    "    print(\"Not Prime\")"
   ]
  },
  {
   "cell_type": "code",
   "execution_count": null,
   "metadata": {},
   "outputs": [],
   "source": [
    "num = int(input())\n",
    "if num > 1:\n",
    "    for i in range(2,num):\n",
    "        if (num % i) == 0:\n",
    "            print(\"Not Prime\")\n",
    "            break\n",
    "    else:\n",
    "        print(\"Prime\")\n",
    "else:\n",
    "    print(\"Not Prime\")"
   ]
  },
  {
   "cell_type": "code",
   "execution_count": null,
   "metadata": {},
   "outputs": [],
   "source": [
    "def prime(m,n):\n",
    "    def cal(num):\n",
    "        if num > 1: \n",
    "            for j in range(2,num):\n",
    "                if (num % j) == 0:\n",
    "                    return 0\n",
    "                    break\n",
    "            else:\n",
    "                return num\n",
    "        else:\n",
    "            return 0\n",
    "    s=[]\n",
    "    s = [ cal(i) for i in range(m,n+1,+1)]\n",
    "    a = list(filter(lambda x: x!= 0, s))\n",
    "    for i in a:\n",
    "        print(i,end=' ')\n",
    "    print()\n",
    "N=int(input())\n",
    "l=[]\n",
    "for i in range(N):\n",
    "\tl.append([int(x) for x in input().split(' ')])\n",
    "\n",
    "for i in range(N):\n",
    "\ta=0\n",
    "\ta=l[i]\n",
    "\tprime(a[0], a[1])"
   ]
  },
  {
   "cell_type": "code",
   "execution_count": null,
   "metadata": {},
   "outputs": [],
   "source": [
    "i=[0,0,0,2,3,5,48,5]"
   ]
  },
  {
   "cell_type": "code",
   "execution_count": null,
   "metadata": {},
   "outputs": [],
   "source": []
  },
  {
   "cell_type": "code",
   "execution_count": null,
   "metadata": {},
   "outputs": [],
   "source": [
    "import math\n",
    "\n",
    "def is_triple(hypotenuse):\n",
    "    \"\"\"return (a, b, c) if Pythagrean Triple, else None\"\"\"\n",
    "    if hypotenuse < 4:\n",
    "        return None\n",
    "\n",
    "    c = hypotenuse**2\n",
    "\n",
    "    for a in range(3, hypotenuse):\n",
    "        b = math.sqrt(c - (a ** 2)) \n",
    "        if b == int(b):\n",
    "            return a, int(b), hypotenuse\n",
    "\n",
    "    return None"
   ]
  },
  {
   "cell_type": "code",
   "execution_count": null,
   "metadata": {},
   "outputs": [],
   "source": [
    "is_triple(25)"
   ]
  },
  {
   "cell_type": "code",
   "execution_count": null,
   "metadata": {},
   "outputs": [],
   "source": [
    "import math\n",
    "\n",
    "def is_triple(hypotenuse):\n",
    "     \n",
    "    def solo(hypo):\n",
    "        x=math.sqrt(hypo)\n",
    "        if x%2==0 or x%2==1 :\n",
    "            return 0, int(x)\n",
    "        else:\n",
    "            pass\n",
    "\n",
    "    val = solo(hypotenuse)\n",
    "    \n",
    "\n",
    "    if hypotenuse>3: \n",
    "        c = hypotenuse\n",
    "\n",
    "        for a in range(3, hypotenuse):\n",
    "            b = math.sqrt(c - (a ** 2)) \n",
    "            if b == int(b):\n",
    "                if (a, int(b))==val or (int(b), a)==val:\n",
    "                    return val\n",
    "                else:\n",
    "                    return val, (a, int(b)),None\n",
    "    return val     \n",
    "\n",
    "N=int(input())\n",
    "s=[]\n",
    "for i in range(N):\n",
    "    s.append(int(input()))\n",
    "k=[]             \n",
    "for j in s:\n",
    "    k.append((is_triple(j)))\n",
    "for i in range(len(k)):\n",
    "    if len(k[i])==2:\n",
    "        print(k[i])\n",
    "    else:\n",
    "        k[i] = list(filter(None, k[i])) \n",
    "        for j in range(len(k[i])):\n",
    "            print(k[i][j],end=\" \")\n",
    "        print()"
   ]
  },
  {
   "cell_type": "code",
   "execution_count": null,
   "metadata": {},
   "outputs": [],
   "source": []
  },
  {
   "cell_type": "code",
   "execution_count": null,
   "metadata": {},
   "outputs": [],
   "source": []
  },
  {
   "cell_type": "code",
   "execution_count": null,
   "metadata": {},
   "outputs": [],
   "source": [
    "k"
   ]
  },
  {
   "cell_type": "code",
   "execution_count": null,
   "metadata": {},
   "outputs": [],
   "source": [
    "for i in range(len(k)):\n",
    "    if len(k[i])==2:\n",
    "        print(k[i])\n",
    "    else:\n",
    "        k[i] = list(filter(None, k[i])) \n",
    "        for j in range(len(k[i])):\n",
    "            print(k[i][j],end=\" \")\n",
    "            \n",
    "    "
   ]
  },
  {
   "cell_type": "code",
   "execution_count": null,
   "metadata": {},
   "outputs": [],
   "source": [
    "res = list(filter(None, k[1])) "
   ]
  },
  {
   "cell_type": "code",
   "execution_count": null,
   "metadata": {},
   "outputs": [],
   "source": [
    "''' Read input from STDIN. Print your output to STDOUT '''\n",
    "    #Use input() to read input from STDIN and use print to write your output to STDOUT\n",
    "\n",
    "def main():\n",
    "\n",
    " # Write code here \n",
    "\n",
    "main()\n",
    "\n"
   ]
  },
  {
   "cell_type": "code",
   "execution_count": null,
   "metadata": {},
   "outputs": [],
   "source": []
  },
  {
   "cell_type": "code",
   "execution_count": 1,
   "metadata": {},
   "outputs": [
    {
     "name": "stdout",
     "output_type": "stream",
     "text": [
      "2\n",
      "4\n",
      "30 40 50 60 \n",
      "30 60 50 40 \n",
      "3\n",
      "60 50 40 \n",
      "30 30 40 \n"
     ]
    }
   ],
   "source": [
    "N=int(input())\n",
    "M=[]\n",
    "for i in range(N):\n",
    "    K=int(input())\n",
    "    H = []\n",
    "    for i in range(2):\n",
    "        l=0\n",
    "        l = [x for x in input().split(' ')]\n",
    "        l.remove('')\n",
    "        for j in range(len(l)):\n",
    "            H.append(int(l[j]))\n",
    "        M.append(H)\n"
   ]
  },
  {
   "cell_type": "code",
   "execution_count": 2,
   "metadata": {},
   "outputs": [
    {
     "data": {
      "text/plain": [
       "[[30, 40, 50, 60], [30, 60, 50, 40], [60, 50, 40], [30, 30, 40]]"
      ]
     },
     "execution_count": 2,
     "metadata": {},
     "output_type": "execute_result"
    }
   ],
   "source": [
    "M"
   ]
  },
  {
   "cell_type": "code",
   "execution_count": 13,
   "metadata": {},
   "outputs": [
    {
     "name": "stdout",
     "output_type": "stream",
     "text": [
      "WIN\n"
     ]
    }
   ],
   "source": [
    "for i in range(N):\n",
    "    Villian = max(M[i])\n",
    "    Player = max(M[i])\n",
    "    if Villian<=Player:\n",
    "        print('WIN')\n",
    "    else:\n",
    "        print('LOSE')\n",
    "    \n",
    "    \n",
    "    \n",
    "    "
   ]
  },
  {
   "cell_type": "code",
   "execution_count": 6,
   "metadata": {},
   "outputs": [
    {
     "name": "stdout",
     "output_type": "stream",
     "text": [
      "2\n",
      "400\n",
      "152 665 1130 1422 1761 1792 1984 2241 2340 2360 2483 2642 3246 3413 3484 3675 4274 4794 4904 4993 5238 5263 5344 5361 5511 5947 6291 8372 8661 8664 9110 9489 9526 9979 10338 10532 10556 10631 11524 11634 11949 11966 12125 12295 12394 12496 12726 13480 13795 14306 14497 14594 15600 16202 16507 16534 16699 16737 16814 17132 17135 17683 17788 17851 18416 18565 19124 19662 19771 19839 19955 20048 20200 20337 20439 20500 20503 20663 21591 21883 23562 23744 24027 24276 24287 24906 25112 25146 25248 25586 25969 26516 26624 26683 26759 26811 26922 27023 27036 27537 27754 27946 28171 28339 28731 28854 28917 29078 29456 29837 30614 30687 30769 31204 31395 31474 31585 31711 31807 31856 31902 32087 32170 32807 33063 33384 33593 33983 34236 34328 34495 34763 34885 35189 35342 35930 36035 36057 36401 36569 36885 36925 36987 37211 37902 38086 38743 39639 39655 40587 40729 40989 41103 41247 41430 41915 41930 41931 42218 42567 42579 43026 43390 43835 44149 44181 44523 44597 44697 44727 44730 44928 45108 45113 45383 45467 45507 45661 46056 46105 46285 46374 46398 46462 46815 46875 47050 47392 47409 47687 49139 49336 49393 49845 49943 50441 51689 52043 52089 52349 52374 52472 52795 52907 53203 53224 53907 54616 55151 55217 55579 55647 55890 56349 56424 56463 57043 57291 57493 58353 58474 58644 58713 58787 59085 59519 60059 60191 60471 60473 60838 61120 61475 61919 62317 62756 62924 62961 63012 63138 63149 63228 63463 63592 64067 64097 64136 65279 65428 65445 65769 65975 66039 66059 66271 66276 66378 66406 66474 66533 66800 67092 67140 67504 67740 68180 68309 68697 68779 68886 68890 68928 68966 69171 69906 70933 71170 71603 71812 71872 72059 72200 72720 72859 72887 73043 73517 73681 73767 74074 74080 74574 74622 74692 75150 75303 75465 75510 76405 76449 76616 76619 76757 76852 76863 76999 77122 77195 77770 77875 77901 77931 78081 78188 78528 78646 78844 78922 79419 79940 80315 80512 80548 81215 81287 81690 82132 82218 82432 82468 82900 83053 83230 84115 84429 84470 84570 84790 84885 84913 84972 85677 86069 86077 86370 86503 86591 86630 87124 87279 87534 87574 88288 88369 89332 89408 89917 90109 90172 90239 90503 90558 90689 90859 91096 91471 91594 91634 91688 91735 92213 92882 92926 93065 94401 94462 94821 95127 95136 95230 95458 95711 95817 95979 96092 96134 96402 96477 96807 97482 97601 97802 98196 98201 98287 98460 98631 99500 99814 99918\n",
      "8 702 740 1226 1837 1866 1903 1919 2070 2108 2710 3255 3568 3953 4048 4470 4953 5117 5121 5191 5257 5717 5942 6012 6179 6193 6559 6560 6848 7210 7493 7621 7741 7774 7823 7862 7957 7965 8000 8847 8968 9108 9380 10217 10800 10822 11654 11921 12975 13063 13130 14301 14444 14472 14507 14528 14559 14685 14698 15358 15412 15690 15819 16305 16500 16565 16898 17488 17545 17825 17909 17939 18069 18197 18226 18506 18644 18649 18663 18732 18799 18821 19563 19582 19921 20866 21506 21762 22051 22135 22449 22586 22591 22827 22835 23126 23177 23377 23743 24717 25040 25219 25951 26152 26633 26815 26999 27614 27802 27822 28138 28190 28370 28584 29284 29327 29451 29461 30495 30617 30626 31456 31693 31770 31948 32146 32368 33013 33096 33362 33412 33516 33688 34375 34792 34827 35502 35600 35606 35864 35986 36733 37051 37135 37159 37246 37290 37372 37397 37471 37668 37874 37909 38236 38271 38513 38689 39045 39381 39457 39484 39696 40095 40316 40448 40738 40809 41193 41214 41237 42167 42349 42355 43140 43182 43205 43333 43363 43493 43912 43977 44059 44162 44541 44933 45455 45707 46130 46264 46293 46336 46390 46458 46675 46765 46767 46867 47211 47223 47235 47852 47894 48136 48683 48971 49034 49465 49664 49693 49698 50181 50446 50654 50661 51295 52509 53220 54289 54616 54715 54798 54822 55007 55504 55704 56261 56676 56796 57054 57285 57333 57569 57939 58070 58282 58423 59036 59108 59125 59224 59461 59719 59725 59812 59983 60245 61098 61209 61742 61784 62076 62162 62391 62450 62495 62548 62555 62594 62641 62816 62862 62961 63525 63632 64297 64998 65237 65279 65522 65645 66095 66808 66820 66838 66879 67196 67545 67596 67613 67748 68201 69536 69787 69980 70720 72008 72555 72743 72862 73306 73515 74400 74485 74551 74598 74786 74952 75042 75049 75137 75197 75306 75324 75516 75683 75756 75842 75959 76021 76194 76269 76565 77047 77054 77099 77151 77446 77475 77653 78113 79202 79601 79627 80307 80951 81016 81343 81490 81583 82029 82646 82672 82944 83244 83419 83726 83895 83974 84222 84359 84360 84539 84743 84917 85360 85407 86301 87231 87621 88139 88415 88505 88662 88892 88932 89009 89030 89033 89500 89531 89777 89880 90309 91400 91458 91622 91765 91852 91975 92468 92610 92771 92833 93352 93542 95038 95127 95156 95246 95386 95591 95746 95776 96755 97020 97251 97514 97524 97548 97870 98066 98301 98355 98463 98520 98874 99101 99474 99746 99815\n",
      "400\n",
      "8 702 740 1226 1837 1866 1903 1919 2070 2108 2710 3255 3568 3953 4048 4470 4953 5117 5121 5191 5257 5717 5942 6012 6179 6193 6559 6560 6848 7210 7493 7621 7741 7774 7823 7862 7957 7965 8000 8847 8968 9108 9380 10217 10800 10822 11654 11921 12975 13063 13130 14301 14444 14472 14507 14528 14559 14685 14698 15358 15412 15690 15819 16305 16500 16565 16898 17488 17545 17825 17909 17939 18069 18197 18226 18506 18644 18649 18663 18732 18799 18821 19563 19582 19921 20866 21506 21762 22051 22135 22449 22586 22591 22827 22835 23126 23177 23377 23743 24717 25040 25219 25951 26152 26633 26815 26999 27614 27802 27822 28138 28190 28370 28584 29284 29327 29451 29461 30495 30617 30626 31456 31693 31770 31948 32146 32368 33013 33096 33362 33412 33516 33688 34375 34792 34827 35502 35600 35606 35864 35986 36733 37051 37135 37159 37246 37290 37372 37397 37471 37668 37874 37909 38236 38271 38513 38689 39045 39381 39457 39484 39696 40095 40316 40448 40738 40809 41193 41214 41237 42167 42349 42355 43140 43182 43205 43333 43363 43493 43912 43977 44059 44162 44541 44933 45455 45707 46130 46264 46293 46336 46390 46458 46675 46765 46767 46867 47211 47223 47235 47852 47894 48136 48683 48971 49034 49465 49664 49693 49698 50181 50446 50654 50661 51295 52509 53220 54289 54616 54715 54798 54822 55007 55504 55704 56261 56676 56796 57054 57285 57333 57569 57939 58070 58282 58423 59036 59108 59125 59224 59461 59719 59725 59812 59983 60245 61098 61209 61742 61784 62076 62162 62391 62450 62495 62548 62555 62594 62641 62816 62862 62961 63525 63632 64297 64998 65237 65279 65522 65645 66095 66808 66820 66838 66879 67196 67545 67596 67613 67748 68201 69536 69787 69980 70720 72008 72555 72743 72862 73306 73515 74400 74485 74551 74598 74786 74952 75042 75049 75137 75197 75306 75324 75516 75683 75756 75842 75959 76021 76194 76269 76565 77047 77054 77099 77151 77446 77475 77653 78113 79202 79601 79627 80307 80951 81016 81343 81490 81583 82029 82646 82672 82944 83244 83419 83726 83895 83974 84222 84359 84360 84539 84743 84917 85360 85407 86301 87231 87621 88139 88415 88505 88662 88892 88932 89009 89030 89033 89500 89531 89777 89880 90309 91400 91458 91622 91765 91852 91975 92468 92610 92771 92833 93352 93542 95038 95127 95156 95246 95386 95591 95746 95776 96755 97020 97251 97514 97524 97548 97870 98066 98301 98355 98463 98520 98874 99101 99474 99746 99815\n",
      "152 665 1130 1422 1761 1792 1984 2241 2340 2360 2483 2642 3246 3413 3484 3675 4274 4794 4904 4993 5238 5263 5344 5361 5511 5947 6291 8372 8661 8664 9110 9489 9526 9979 10338 10532 10556 10631 11524 11634 11949 11966 12125 12295 12394 12496 12726 13480 13795 14306 14497 14594 15600 16202 16507 16534 16699 16737 16814 17132 17135 17683 17788 17851 18416 18565 19124 19662 19771 19839 19955 20048 20200 20337 20439 20500 20503 20663 21591 21883 23562 23744 24027 24276 24287 24906 25112 25146 25248 25586 25969 26516 26624 26683 26759 26811 26922 27023 27036 27537 27754 27946 28171 28339 28731 28854 28917 29078 29456 29837 30614 30687 30769 31204 31395 31474 31585 31711 31807 31856 31902 32087 32170 32807 33063 33384 33593 33983 34236 34328 34495 34763 34885 35189 35342 35930 36035 36057 36401 36569 36885 36925 36987 37211 37902 38086 38743 39639 39655 40587 40729 40989 41103 41247 41430 41915 41930 41931 42218 42567 42579 43026 43390 43835 44149 44181 44523 44597 44697 44727 44730 44928 45108 45113 45383 45467 45507 45661 46056 46105 46285 46374 46398 46462 46815 46875 47050 47392 47409 47687 49139 49336 49393 49845 49943 50441 51689 52043 52089 52349 52374 52472 52795 52907 53203 53224 53907 54616 55151 55217 55579 55647 55890 56349 56424 56463 57043 57291 57493 58353 58474 58644 58713 58787 59085 59519 60059 60191 60471 60473 60838 61120 61475 61919 62317 62756 62924 62961 63012 63138 63149 63228 63463 63592 64067 64097 64136 65279 65428 65445 65769 65975 66039 66059 66271 66276 66378 66406 66474 66533 66800 67092 67140 67504 67740 68180 68309 68697 68779 68886 68890 68928 68966 69171 69906 70933 71170 71603 71812 71872 72059 72200 72720 72859 72887 73043 73517 73681 73767 74074 74080 74574 74622 74692 75150 75303 75465 75510 76405 76449 76616 76619 76757 76852 76863 76999 77122 77195 77770 77875 77901 77931 78081 78188 78528 78646 78844 78922 79419 79940 80315 80512 80548 81215 81287 81690 82132 82218 82432 82468 82900 83053 83230 84115 84429 84470 84570 84790 84885 84913 84972 85677 86069 86077 86370 86503 86591 86630 87124 87279 87534 87574 88288 88369 89332 89408 89917 90109 90172 90239 90503 90558 90689 90859 91096 91471 91594 91634 91688 91735 92213 92882 92926 93065 94401 94462 94821 95127 95136 95230 95458 95711 95817 95979 96092 96134 96402 96477 96807 97482 97601 97802 98196 98201 98287 98460 98631 99500 99814 99918\n"
     ]
    },
    {
     "name": "stdout",
     "output_type": "stream",
     "text": [
      "LOSE\n",
      "WIN\n"
     ]
    }
   ],
   "source": [
    "''' Read input from STDIN. Print your output to STDOUT '''\n",
    "    #Use input() to read input from STDIN and use print to write your output to STDOUT\n",
    "\n",
    "def main():\n",
    "    def decider(M):\n",
    "        for i in range(N):\n",
    "            Villian = max(M[i][0])\n",
    "            Player = max(M[i][1])\n",
    "            if Villian<=Player:\n",
    "                print('WIN')\n",
    "            else:\n",
    "                print('LOSE')\n",
    "    N=int(input())\n",
    "    M=[]\n",
    "    for i in range(N):\n",
    "        K=int(input())\n",
    "        l=[]\n",
    "        for i in range(2):\n",
    "            h = 0\n",
    "            h = [x for x in input().split(' ')]\n",
    "            if '' in h:\n",
    "                h.remove('')\n",
    "            H = []\n",
    "            for j in range(len(h)):\n",
    "                H.append(int(h[j]))\n",
    "            l.append(H)\n",
    "            \n",
    "            \n",
    "        M.append(l)\n",
    "    decider(M)\n",
    "main()"
   ]
  },
  {
   "cell_type": "code",
   "execution_count": 8,
   "metadata": {},
   "outputs": [],
   "source": [
    "k=['20', '20', '40', '50', '']\n",
    "k.remove('')\n"
   ]
  },
  {
   "cell_type": "code",
   "execution_count": 11,
   "metadata": {},
   "outputs": [
    {
     "name": "stdout",
     "output_type": "stream",
     "text": [
      "1\n",
      "5\n",
      "10 20 30 40 50 \n",
      "40 50 60 70 80 \n",
      "WIN\n"
     ]
    }
   ],
   "source": [
    "''' Read input from STDIN. Print your output to STDOUT '''\n",
    "    #Use input() to read input from STDIN and use print to write your output to STDOUT\n",
    "\n",
    "def main():\n",
    "    def decider(M):\n",
    "        for i in range(N):\n",
    "            state=\"Neutral\"\n",
    "            Villian = M[i][0]\n",
    "            Villian.sort()\n",
    "            Player = M[i][1]\n",
    "            Player.sort()\n",
    "            for k in range(len(Villian)):\n",
    "                if Villian[k]<=Player[k]:\n",
    "                    state='WIN'\n",
    "                else:\n",
    "                    state='LOSE'\n",
    "                    break\n",
    "            print(state)\n",
    "            \n",
    "    N=int(input())\n",
    "    M=[]\n",
    "    for i in range(N):\n",
    "        K=int(input())\n",
    "        l=[]\n",
    "        for i in range(2):\n",
    "            h = 0\n",
    "            h = [x for x in input().split(' ')]\n",
    "            if '' in h:\n",
    "                h.remove('')\n",
    "            H = []\n",
    "            for j in range(len(h)):\n",
    "                H.append(int(h[j]))\n",
    "            l.append(H)\n",
    "            \n",
    "            \n",
    "        M.append(l)\n",
    "    decider(M)\n",
    "main()"
   ]
  },
  {
   "cell_type": "code",
   "execution_count": 8,
   "metadata": {},
   "outputs": [
    {
     "name": "stdout",
     "output_type": "stream",
     "text": [
      "WIN\n"
     ]
    }
   ],
   "source": [
    "state='WIN'\n",
    "print(state)"
   ]
  },
  {
   "cell_type": "code",
   "execution_count": null,
   "metadata": {},
   "outputs": [],
   "source": [
    "def fun(lst):\n",
    "    max_=max(lst)\n",
    "    if len(lst) == 1:\n",
    "        return [lst[0],str(lst[0])]\n",
    "    if len(lst) == 2:\n",
    "        if lst[0] > lst[1]:\n",
    "            return [lst[0],str(lst[0])]\n",
    "        else:\n",
    "            return [lst[1],str(lst[1])]\n",
    "    fun1 = fun(lst[2:])\n",
    "    firstSum = lst[0] + fun1[0]\n",
    "    if lst[0] == 0:\n",
    "        firstString = fun1[1]\n",
    "    else:\n",
    "        firstString = fun1[1] + str(lst[0])\n",
    "    firstString = fun1[1] + str(\"\" if lst[0]==0 else lst[0])\n",
    "    fun2 = fun(lst[1:])\n",
    "    secondSum = fun2[0]\n",
    "    thirdSum=lst[0]\n",
    "    thirdString=str(lst[0])\n",
    "    secondString = fun2[1]\n",
    "    if firstSum >= secondSum and firstSum >= thirdSum:\n",
    "        return [firstSum,firstString]\n",
    "    elif thirdSum >= firstSum and secondSum 0:\n",
    "        T=int(input())\n",
    "        lst=list(map(int,input().split()))\n",
    "        N-=1 out_=fun(lst) print(out_[1])\n",
    "        main()"
   ]
  },
  {
   "cell_type": "code",
   "execution_count": null,
   "metadata": {},
   "outputs": [],
   "source": []
  }
 ],
 "metadata": {
  "kernelspec": {
   "display_name": "Python 3",
   "language": "python",
   "name": "python3"
  },
  "language_info": {
   "codemirror_mode": {
    "name": "ipython",
    "version": 3
   },
   "file_extension": ".py",
   "mimetype": "text/x-python",
   "name": "python",
   "nbconvert_exporter": "python",
   "pygments_lexer": "ipython3",
   "version": "3.5.6"
  }
 },
 "nbformat": 4,
 "nbformat_minor": 2
}
