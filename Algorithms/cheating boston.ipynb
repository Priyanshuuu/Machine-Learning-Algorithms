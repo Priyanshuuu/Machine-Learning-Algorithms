{
 "cells": [
  {
   "cell_type": "code",
   "execution_count": null,
   "metadata": {},
   "outputs": [],
   "source": [
    "import pandas as pd\n",
    "import numpy as np\n",
    "\n",
    "data=pd.read_csv('training_boston_x_y_train.csv',delimiter=',')\n",
    "\n",
    "rdata=data.copy()\n",
    "rdata.head()\n",
    "y_train=np.array(data[' Y'])\n",
    "clms=rdata.columns\n",
    "data.head()\n",
    "y_train.shape"
   ]
  },
  {
   "cell_type": "code",
   "execution_count": null,
   "metadata": {},
   "outputs": [],
   "source": [
    "\n",
    "#rdata[clms]=(rdata[clms]-rdata[clms].mean())/rdata[clms].std()\n",
    "#drata['y']=1+rdata['Y']-1\n",
    "\n",
    "#del rdata[' Y']\n",
    "x_train=np.array(rdata)"
   ]
  },
  {
   "cell_type": "code",
   "execution_count": null,
   "metadata": {},
   "outputs": [],
   "source": [
    "print(x_train.shape)\n",
    "(y_train.shape)"
   ]
  },
  {
   "cell_type": "code",
   "execution_count": null,
   "metadata": {},
   "outputs": [],
   "source": [
    "x_tst=pd.read_csv('test_boston_x_test.csv',delimiter=',')\n",
    "#clm=x_tst.columns\n",
    "#x_tst[clms]=(x_tst[clms]-x_tst[clms].mean())/x_tst[clms].std()\n",
    "x_tst.head()"
   ]
  },
  {
   "cell_type": "code",
   "execution_count": null,
   "metadata": {},
   "outputs": [],
   "source": [
    "clm=x_tst.columns\n",
    "x_tst[clm]=(x_tst[clm]-x_tst[clm].mean())/x_tst[clm].std()\n",
    "x_test=np.array(x_tst)\n",
    "x_test.shape"
   ]
  },
  {
   "cell_type": "code",
   "execution_count": null,
   "metadata": {},
   "outputs": [],
   "source": [
    "from sklearn import ensemble\n",
    "algo=ensemble.GradientBoostingRegressor(learning_rate=0.16,n_estimators=2500)\n",
    "algo.fit(x_train,y_train)                                #learning_rate=0.16,n_estimators=25000\n",
    "\n",
    "y_pred=algo.predict(x_test)\n",
    "\n",
    "y_t_pred=algo.predict(x_train)\n",
    "y_test_pred=pred=np.around(y_pred,decimals=5)\n",
    "np.savetxt(\"cheating_boston.csv\",y_pred)\n",
    "y_pred.shape"
   ]
  }
 ],
 "metadata": {
  "kernelspec": {
   "display_name": "Python 3",
   "language": "python",
   "name": "python3"
  },
  "language_info": {
   "codemirror_mode": {
    "name": "ipython",
    "version": 3
   },
   "file_extension": ".py",
   "mimetype": "text/x-python",
   "name": "python",
   "nbconvert_exporter": "python",
   "pygments_lexer": "ipython3",
   "version": "3.6.5"
  }
 },
 "nbformat": 4,
 "nbformat_minor": 2
}
